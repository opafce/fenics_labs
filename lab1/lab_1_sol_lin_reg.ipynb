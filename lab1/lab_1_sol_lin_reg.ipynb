{
 "cells": [
  {
   "cell_type": "code",
   "execution_count": 1,
   "id": "279f4ac5-4fec-42b9-a85d-56d5dc0acaa0",
   "metadata": {},
   "outputs": [
    {
     "data": {
      "image/png": "[encoded data removed]",
      "text/plain": [
       "<Figure size 432x288 with 1 Axes>"
      ]
     },
     "metadata": {
      "needs_background": "light"
     },
     "output_type": "display_data"
    },
    {
     "name": "stdout",
     "output_type": "stream",
     "text": [
      "0.005439043045043945\n",
      "Solution of the FAST solver: alpha =  1.0013945190022095 and beta = -0.0006042734629113644\n",
      "0.38352203369140625\n",
      "Solution of the NAIVE solver: alpha =  1.0013945190022204 and beta = -0.0006042734629136959\n"
     ]
    }
   ],
   "source": [
    "import numpy as np\n",
    "import matplotlib.pyplot as plt\n",
    "import time\n",
    "import random\n",
    "\n",
    "# input quantities\n",
    "N = int(1e6) # number of data points - 1\n",
    "flagplot = True # put to false when N is too large (probems with ploting) \n",
    "sigma = 0.2 # standard deviation\n",
    "\n",
    "# Initialize arrays for the standard python version\n",
    "x = []\n",
    "y = []\n",
    "for i in range(0,N):\n",
    "    x.append(float(i)/float(N)) # this is needed since i and N are int\n",
    "    y.append(x[i]+random.gauss(0,sigma))\n",
    "\n",
    "# Same arrays as with numpy\n",
    "x_np = np.array(x)\n",
    "y_np = np.array(y)\n",
    "\n",
    "def naive(x, y):\n",
    "\n",
    "    x_mean = 0.0\n",
    "    y_mean = 0.0\n",
    "    for xi,yi in zip(x,y):\n",
    "        x_mean += xi/len(x)\n",
    "        y_mean += yi/len(y)\n",
    "\n",
    "    a = 0.0\n",
    "    s = 0.0\n",
    "    for xi, yi in zip(x, y):\n",
    "        a += (xi - x_mean)*(yi - y_mean)\n",
    "        s += (xi - x_mean)**2\n",
    "\n",
    "    alpha = a/s\n",
    "    beta = y_mean - alpha*x_mean\n",
    "\n",
    "    return alpha,beta\n",
    "   \n",
    "def fast(x, y):\n",
    "    \n",
    "    x_mean = np.mean(x)\n",
    "    y_mean = np.mean(y)\n",
    "    alpha = np.dot(x - x_mean, y - y_mean)/np.dot(x - x_mean, x - x_mean)\n",
    "    beta = y_mean - alpha*x_mean\n",
    "\n",
    "    return alpha,beta\n",
    "\n",
    "def plot(x, y):\n",
    "\n",
    "    if flagplot:\n",
    "        \n",
    "        plt.ion()\n",
    "        plt.figure()\n",
    "        plt.plot(x, y, 'o')\n",
    "\n",
    "        alpha,beta = fast(x_np, y_np)\n",
    "        plt.plot(x, alpha*x_np+beta, '-x') # numpy arrays are needed\n",
    "\n",
    "        alpha,beta = naive(x, y)\n",
    "        plt.plot(x, alpha*x_np+beta, '-') # numpy arrays are needed\n",
    "        \n",
    "        plt.plot([0, 1], [0, 1], '-')\n",
    "        plt.legend(['Data points','Numpy','In-built','Exact'])\n",
    "        plt.xlabel('x')\n",
    "        plt.ylabel('y')\n",
    "        plt.title('Regression assignment')\n",
    "        plt.show(block=True)\n",
    "\n",
    "\n",
    "if __name__ == '__main__':\n",
    "\n",
    "     plot(x,y)\n",
    "     # Compute numpy version\n",
    "     tic = time.time()\n",
    "     alpha,beta = fast(x_np, y_np)\n",
    "     print(time.time()-tic)\n",
    "     print('Solution of the FAST solver: alpha =  {} and beta = {}'.format(alpha,beta))\n",
    "\n",
    "     # Compute naive version\n",
    "     tic = time.time()\n",
    "     alpha,beta = naive(x, y)\n",
    "     print(time.time()-tic)\n",
    "     print('Solution of the NAIVE solver: alpha =  {} and beta = {}'.format(alpha,beta))\n",
    "     \n",
    "     # ##### or in ipython\n",
    "     # from linear_regression import *\n",
    "     # %timeit naive(x,y)\n",
    "     # %timeit fast(x,y)\n",
    "\n"
   ]
  },
  {
   "cell_type": "code",
   "execution_count": null,
   "id": "93ac0821-639b-4393-ae82-c5b01a15309b",
   "metadata": {},
   "outputs": [],
   "source": []
  }
 ],
 "metadata": {
  "kernelspec": {
   "display_name": "Python 3 (ipykernel)",
   "language": "python",
   "name": "python3"
  },
  "language_info": {
   "codemirror_mode": {
    "name": "ipython",
    "version": 3
   },
   "file_extension": ".py",
   "mimetype": "text/x-python",
   "name": "python",
   "nbconvert_exporter": "python",
   "pygments_lexer": "ipython3",
   "version": "3.9.7"
  }
 },
 "nbformat": 4,
 "nbformat_minor": 5
}
