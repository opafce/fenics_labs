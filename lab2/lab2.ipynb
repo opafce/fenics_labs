{
 "cells": [
  {
   "cell_type": "markdown",
   "metadata": {},
   "source": [
    "$1.2$ A bit more of theory\n",
    "\n",
    "Consider the reaction-diffusion equation:\n",
    "\n",
    "$r u-\\mu \\Delta u=f \\quad$ in $\\Omega$\n",
    "\n",
    "$u=g_{D} \\quad$ on $\\Gamma_{D} \\quad$ (Dirichlet-BC)\n",
    "\n",
    "$\\mu \\frac{\\partial u}{\\partial n}=g_{N} \\quad$ on $\\Gamma_{N} \\quad$ (Neumann-BC)\n",
    "\n",
    "$\\gamma u+\\mu \\frac{\\partial u}{\\partial n}=g_{R} \\quad$ on $\\Gamma_{R} \\quad$ (Robin-BC).\n"
   ]
  },
  {
   "cell_type": "markdown",
   "metadata": {},
   "source": [
    "with $0 \\leq r, \\mu, \\gamma<\\infty$ given constants, and $g_{D}, g_{N}, g_{R}$ given functions defined on the respective boundary, and $\\Gamma_{D} \\cup \\Gamma_{N} \\cup \\Gamma_{R}=\\partial \\Omega$. Note that eventually some of the subboundaries $\\Gamma_{D}, \\Gamma_{N}, \\Gamma_{R}$ can be empty sets.\n",
    "\n",
    "- Obtain the weak form of Problem (1)-(4).\n",
    "\n",
    "- Show that for $r>0, \\mu>0, \\Gamma_{D}=\\Gamma_{R}=\\emptyset$, the weak problem is well posed (i.e. there exists at least a unique solution) for both test and trial solutions in $H^{1}_0(\\Omega)$."
   ]
  },
  {
   "cell_type": "markdown",
   "metadata": {},
   "source": [
    "As usual, we multiply by a test function $v$ and integrate by parts:\n",
    "$$\n",
    "-\\int_{\\Omega} \\nabla \\cdot(\\mu \\nabla u) v \\mathrm{~d} x=\\int_{\\Omega} \\mu \\nabla u \\cdot \\nabla v \\mathrm{~d} x-\\int_{\\partial \\Omega} \\mu \\frac{\\partial u}{\\partial n} v \\mathrm{~d} s .\n",
    "$$\n",
    "On the Dirichlet part of the boundary $\\left(\\Gamma_{\\mathrm{D}}^{i}\\right)$, the boundary integral vanishes since $v=0$. On the remaining part of the boundary, we split the boundary integral into contributions from the Neumann parts $\\left(\\Gamma_{\\mathrm{N}}^{i}\\right)$ and Robin parts $\\left(\\Gamma_{\\mathrm{R}}^{i}\\right)$. Inserting the boundary conditions, we obtain"
   ]
  },
  {
   "cell_type": "markdown",
   "metadata": {},
   "source": [
    "$$\n",
    "\\begin{aligned}\n",
    "-\\int_{\\partial \\Omega} \\mu \\frac{\\partial u}{\\partial n} v \\mathrm{~d} s &=-\\sum_{i} \\int_{\\Gamma_{\\mathrm{N}}^{i}} \\mu \\frac{\\partial u}{\\partial n} \\mathrm{~d} s-\\sum_{i} \\int_{\\Gamma_{\\mathrm{R}}^{i}} \\mu \\frac{\\partial u}{\\partial n} \\mathrm{~d} s \\\\\n",
    "&=\\sum_{i} \\int_{\\Gamma_{\\mathrm{N}}^{i}} g_{i} \\mathrm{~d} s+\\sum_{i} \\int_{\\Gamma_{\\mathrm{R}}^{i}} r_{i}\\left(u-s_{i}\\right) \\mathrm{d} s\n",
    "\\end{aligned}\n",
    "$$\n",
    "We thus obtain the following variational problem:\n",
    "$$\n",
    "F=\\int_{\\Omega} \\mu \\nabla u \\cdot \\nabla v \\mathrm{~d} x+\\sum_{i} \\int_{\\Gamma_{\\mathrm{N}}^{i}} g_{i} v \\mathrm{~d} s+\\sum_{i} \\int_{\\Gamma_{\\mathrm{R}}^{i}} r_{i}\\left(u-s_{i}\\right) v \\mathrm{~d} s-\\int_{\\Omega} \\left(f v - ru\\right)\\mathrm{~d} x=0\n",
    "$$"
   ]
  },
  {
   "cell_type": "markdown",
   "metadata": {},
   "source": [
    "We have been used to writing this variational formulation in the standard notation $a(u, v)=L(v)$, which requires that we identify all integral depending on the trial function $u$, and collect these in $a(u, v)$, while the remaining integrals go into $L(v)$. The integrals from the Robin condition must for this reason be split into two parts:\n",
    "$$\n",
    "\\int_{\\Gamma_{\\mathrm{R}}^{i}} r_{i}\\left(u-s_{i}\\right) v \\mathrm{~d} s=\\int_{\\Gamma_{\\mathrm{R}}^{i}} r_{i} u v \\mathrm{~d} s-\\int_{\\Gamma_{\\mathrm{R}}^{i}} r_{i} s_{i} v \\mathrm{~d} s\n",
    "$$\n",
    "We then have\n",
    "$$\n",
    "\\begin{aligned}\n",
    "a(u, v) &=\\int_{\\Omega} \\mu \\nabla u \\cdot \\nabla v \\mathrm{~d} x+\\sum_{i} \\int_{\\Gamma_{\\mathrm{R}}^{i}} r_{i} u v \\mathrm{~d} s  - \\int_{\\Omega} ru \\mathrm{~d} x\\\\\n",
    "L(v) &=\\int_{\\Omega} f v \\mathrm{~d} x-\\sum_{i} \\int_{\\Gamma_{\\mathrm{N}}^{i}} g_{i} v \\mathrm{~d} s+\\sum_{i} \\int_{\\Gamma_{\\mathrm{R}}^{i}} r_{i} s_{i} v \\mathrm{~d} s .\n",
    "\\end{aligned}\n",
    "$$"
   ]
  },
  {
   "cell_type": "markdown",
   "metadata": {},
   "source": [
    "2.1 A bit more of theory ( $2.0$ points)\n",
    "- (1.0 points) Show that for $r=0, \\mu>0, \\Gamma_{N}=\\Gamma_{R}=\\emptyset, g_{D}=0$, the weak problem you derived in Section $1.2$ has a unique solution for both test and trial solutions in $H_{0}^{1}(\\Omega)$. Hint: you may need to use Poincaré inequality.\n"
   ]
  },
  {
   "cell_type": "markdown",
   "metadata": {},
   "source": [
    "We then have\n",
    "$$\n",
    "\\begin{aligned}\n",
    "a(u, v) &=\\int_{\\Omega} \\mu \\nabla u \\cdot \\nabla v \\mathrm{~d} x\\\\\n",
    "L(v) &=\\int_{\\Omega} f v \\mathrm{~d} x.\n",
    "\\end{aligned}\n",
    "$$"
   ]
  },
  {
   "cell_type": "markdown",
   "metadata": {},
   "source": [
    "for both test and trial solutions in $H_{0}^{1}(\\Omega)$ we get the scalar product $<u,v>$ multiplied by $\\mu$ is equal to a(u, v).\n",
    "From Lax_Milgram theorem.\n",
    "Let $V$ be a Hilbert space and $a(\\cdot, \\cdot)$ a bilinear form on $V$, which is\n",
    "1. continius: $|a(u, v)| \\leq C\\|u\\|\\|v\\|$; and\n",
    "2. eliptic: $a(u, u) \\geq c\\|u\\|^{2}$.\n",
    "3. continius: $|l(v)| \\leq c\\|v\\|$.\n",
    "\n",
    "Then, for any $f \\in V^{\\prime}$, there is a unique solution $u \\in V$ to the equation\n",
    "$$\n",
    "a(u, v)=f(v) \\quad \\forall v \\in V\n",
    "$$"
   ]
  },
  {
   "cell_type": "markdown",
   "metadata": {},
   "source": [
    "for v we have the Poincaré inequality\n",
    "\n",
    "$c_{p}\\|\\nabla v\\| \\geq \\|v\\|$, so also a unique solution"
   ]
  },
  {
   "cell_type": "markdown",
   "metadata": {},
   "source": [
    "- (0.5 points) When $r=0$ and $\\Gamma_{D}=\\Gamma_{R}=\\emptyset$, i.e. $\\partial \\Omega=\\Gamma_{N}, g_{N}$ given data: show that you do not have an $H^{1}(\\Omega)$-elliptic bilinear form.\n"
   ]
  },
  {
   "cell_type": "markdown",
   "metadata": {},
   "source": [
    "$a(u,u)=\\int_{\\Omega} r u^{2} + \\int_{\\Omega} \\mu \\| \\nabla u \\| ^{2}$\n",
    "\n",
    "The first term vanishes. \n",
    "\n",
    "$H^{1}(\\Omega)-norm \\quad\\|u\\|_{H^{1} (\\Omega)}^{2}=\\int_{\\Omega} u^{2}+\\int_{\\Omega} \\|\\nabla u \\|^{2}$\n",
    "\n",
    "Since $\\mu = 1$ we do not have a $H^{1}(\\Omega)-norm$"
   ]
  },
  {
   "cell_type": "markdown",
   "metadata": {},
   "source": [
    "- (0.5 points) Obtain now the weak form of Problem (1) for $\\mu=0, r>0$. Which is the largest possible function space for tests and trial functions such that the weak problem is well posed?"
   ]
  },
  {
   "cell_type": "markdown",
   "metadata": {},
   "source": [
    "$v$ should be 0 at the boundary, so $v \\in H^{1}_0(\\Omega)-norm$"
   ]
  },
  {
   "cell_type": "markdown",
   "metadata": {},
   "source": [
    "the only restrictions we get is that by Robin's bc $u < \\infty$, so u $\\in L^{2}(\\Omega)-norm$"
   ]
  },
  {
   "cell_type": "markdown",
   "metadata": {},
   "source": [
    "$\\left\\|u-u_{h}\\right\\|_{H^{1}(\\Omega)} \\leq \\left\\|u-\\Pi_{h}^p\\right\\|_{H^{1}(\\Omega)}\\leq C_{p}^1 h^{p+1-1}|u|_{H^{p+1}(\\Omega)} \\leq C h^{p} \\sqrt{C_{1} h^{2}+C_{2}}|u|_{H^{p+1}(\\Omega)}$"
   ]
  },
  {
   "cell_type": "markdown",
   "metadata": {},
   "source": [
    "from book"
   ]
  }
 ],
 "metadata": {
  "kernelspec": {
   "display_name": "Python 3",
   "language": "python",
   "name": "python3"
  },
  "language_info": {
   "codemirror_mode": {
    "name": "ipython",
    "version": 3
   },
   "file_extension": ".py",
   "mimetype": "text/x-python",
   "name": "python",
   "nbconvert_exporter": "python",
   "pygments_lexer": "ipython3",
   "version": "3.6.9"
  }
 },
 "nbformat": 4,
 "nbformat_minor": 5
}
