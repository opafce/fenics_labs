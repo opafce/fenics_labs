{
 "cells": [
  {
   "cell_type": "code",
   "execution_count": 56,
   "metadata": {},
   "outputs": [
    {
     "name": "stdout",
     "output_type": "stream",
     "text": [
      "Local Peclet number is: 15.625\n",
      "0.014625 0.001\n",
      "error_L2  = 0.2791324280707665\n"
     ]
    },
    {
     "data": {
      "image/png": "[encoded data removed]",
      "text/plain": [
       "<Figure size 432x288 with 2 Axes>"
      ]
     },
     "metadata": {
      "needs_background": "light"
     },
     "output_type": "display_data"
    },
    {
     "name": "stdout",
     "output_type": "stream",
     "text": [
      "Local Peclet number is: 15.625\n",
      "0.014625 0.014625\n",
      "error_L2  = 0.10902557542114176\n"
     ]
    },
    {
     "data": {
      "image/png": "[encoded data removed]",
      "text/plain": [
       "<Figure size 432x288 with 2 Axes>"
      ]
     },
     "metadata": {
      "needs_background": "light"
     },
     "output_type": "display_data"
    }
   ],
   "source": [
    "from fenics import *\n",
    "import numpy as np\n",
    "import matplotlib.pyplot as plt\n",
    "for i in range(2):\n",
    "    case = '_usual'\n",
    "    N = 32\n",
    "    mu = 0.001\n",
    "    c1 = 1/np.sqrt(2)\n",
    "    b = Constant([c1,c1])\n",
    "    r = Constant(0)\n",
    "    f = Expression('x[0]< 0.1 && x[1] < 0.1 ? 10 : 0', degree=2)\n",
    "    frm = np.sqrt(1/2 + 1/2)\n",
    "    pe = frm*1/(N * 2 * mu)\n",
    "    print('Local Peclet number is:', pe)\n",
    "    sigma = 1/(frm*2 * N)*(1/np.tanh(pe) -1/pe)\n",
    "    if i == 1:\n",
    "        case = \"_supg\"\n",
    "        mu = max(sigma, mu)\n",
    "    print(sigma, mu)\n",
    "    # Create mesh and define function space\n",
    "    mesh = UnitSquareMesh(N, N)\n",
    "\n",
    "    V = FunctionSpace(mesh, \"P\", 1)\n",
    "\n",
    "    # Define boundary condition\n",
    "    import sympy as sym \n",
    "    u_D = Constant(0)\n",
    "    \n",
    "    mu = Constant(mu)\n",
    "    \n",
    "    \n",
    "    u_00 = Constant(0)                         # restrict to x = 0\n",
    "    u_10 = Constant(0)                         # restrict to x = 1\n",
    "    g_01 = Constant(0)       \n",
    "    g_11 = Constant(0)             #Neumann bcs\n",
    "    \n",
    "\n",
    "    # Define boundary conditions\n",
    "    boundary_conditions = {0: {'Dirichlet': u_00},   # x = 0\n",
    "                            1: {'Neumann': g_01},   # x = 1\n",
    "                            2: {'Dirichlet':   u_10}, # y = 0\n",
    "                            3: {'Neumann':   g_11}}      # y = 1  \n",
    "    \n",
    "    tol = 1e-14\n",
    "\n",
    "    class BoundaryX0(SubDomain):\n",
    "        def inside(self, x, on_boundary):\n",
    "            return on_boundary and near(x[0], 0, tol)\n",
    "\n",
    "    class BoundaryX1(SubDomain):\n",
    "        def inside(self, x, on_boundary):\n",
    "            return on_boundary and near(x[0], 1, tol)\n",
    "\n",
    "    class BoundaryY0(SubDomain):\n",
    "        def inside(self, x, on_boundary):\n",
    "            return on_boundary and near(x[1], 0, tol)\n",
    "\n",
    "    class BoundaryY1(SubDomain):\n",
    "        def inside(self, x, on_boundary):\n",
    "            return on_boundary and near(x[1], 1, tol)\n",
    "\n",
    "    # Mark boundaries\n",
    "    boundary_markers = MeshFunction('size_t', mesh, mesh.topology().dim() - 1) \n",
    "    boundary_markers.set_all(9999)\n",
    "    bx0 = BoundaryX0()\n",
    "    bx1 = BoundaryX1()\n",
    "    by0 = BoundaryY0()\n",
    "    by1 = BoundaryY1()\n",
    "    bx0.mark(boundary_markers, 0)\n",
    "    bx1.mark(boundary_markers, 1)\n",
    "    by0.mark(boundary_markers, 2)\n",
    "    by1.mark(boundary_markers, 3)\n",
    "\n",
    "    # Redefine boundary integration measure\n",
    "    ds = Measure('ds', domain=mesh, subdomain_data=boundary_markers)\n",
    "\n",
    "    # Collect Dirichlet conditions\n",
    "    bcs = []\n",
    "    for i in boundary_conditions:\n",
    "        if 'Dirichlet' in boundary_conditions[i]:\n",
    "            bc = DirichletBC(V, boundary_conditions[i]['Dirichlet'],\n",
    "                             boundary_markers, i)\n",
    "            bcs.append(bc)\n",
    "    u = TrialFunction(V)\n",
    "    v = TestFunction(V)\n",
    "    # Collect Neumann integrals\n",
    "    integrals_N = []\n",
    "    for i in boundary_conditions:\n",
    "        if 'Neumann' in boundary_conditions[i]:\n",
    "            if boundary_conditions[i]['Neumann'] != 0:\n",
    "                g = boundary_conditions[i]['Neumann']\n",
    "                integrals_N.append(g*v*ds(i))\n",
    "    \n",
    "    \n",
    "    # Define variational problem\n",
    "\n",
    "    a = mu * dot(grad(u), grad(v))*dx + r*u*v*dx + dot(b,grad(u))*v*dx\n",
    "    L = f*v*dx + sum(integrals_N)\n",
    "\n",
    "    # Compute solution\n",
    "    u = Function(V)\n",
    "    solve(a == L, u, bcs)\n",
    "    plt.show()\n",
    "    # Plot solution and mesh\n",
    "    c = plot(u)\n",
    "    plt.colorbar(c)\n",
    "    #plot(mesh)\n",
    "    # Save solution to file in VTK format\n",
    "    vtkfile = File('adr_r_n/solution_comp'+case+'.pvd')\n",
    "    vtkfile << u\n",
    "    \n",
    "\n",
    "    # Compute error in L2 norm\n",
    "    error_L2 = errornorm(u_D, u, 'L2', degree_rise = 4)\n",
    "\n",
    "    print('error_L2  =', error_L2)\n",
    "\n",
    "    # Hold plot\n",
    "    plt.show()\n"
   ]
  },
  {
   "cell_type": "code",
   "execution_count": null,
   "metadata": {},
   "outputs": [],
   "source": []
  },
  {
   "cell_type": "code",
   "execution_count": null,
   "metadata": {},
   "outputs": [],
   "source": []
  }
 ],
 "metadata": {
  "kernelspec": {
   "display_name": "Python 3",
   "language": "python",
   "name": "python3"
  },
  "language_info": {
   "codemirror_mode": {
    "name": "ipython",
    "version": 3
   },
   "file_extension": ".py",
   "mimetype": "text/x-python",
   "name": "python",
   "nbconvert_exporter": "python",
   "pygments_lexer": "ipython3",
   "version": "3.6.9"
  }
 },
 "nbformat": 4,
 "nbformat_minor": 4
}
