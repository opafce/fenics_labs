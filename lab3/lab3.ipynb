{
 "cells": [
  {
   "cell_type": "markdown",
   "metadata": {},
   "source": [
    "Consider the following advection-diffusion problem: find $u: \\Omega \\mapsto \\mathbb{R}$, s.t.,\n",
    "$$\n",
    "\\begin{aligned}\n",
    "r u-\\mu \\Delta u+\\boldsymbol{b} \\cdot \\nabla u &=f \\quad & & \\text { in } \\Omega \\\\\n",
    "u &=g & & \\text { on } \\quad \\partial \\Omega\n",
    "\\end{aligned}\n",
    "$$\n",
    "1. Obtain the weak form.\n",
    "2. For $r=0, g=0$, show the ellipticity of bilinear form in H1-seminorm.\n",
    "3. For $r=0, g=0$, show the continuity of bilinear form in H1-seminorm..\n",
    "4. What happens with Cea's constant when $\\mu \\rightarrow 0$, for a fixed $\\boldsymbol{b}$ ?\n",
    "5. An analytical solution for $\\Omega=[0,1]^{2}, r=0, f=0$ and $\\boldsymbol{b}=(0,1)^{\\top}$ is given by\n",
    "$$\n",
    "u(x, y)=x\\left(\\frac{1-e^{\\frac{y-1}{\\mu}}}{1-e^{\\frac{-2}{\\mu}}}\\right)\n",
    "$$\n",
    "Implement a function that solves problem (1) using standard Galerkin FEM and $P^{1}$ elements for a given diffusivity, $\\mu$, and mesh size, $N=N_{x}=N_{y}$ using $g=u$ for the Dirichlet boundary condition. Note: A vector constant can be defined in FEniCS via Constant $([a, b])$.\n",
    "Plot the solutions for $N=10$, for $\\mu=10^{-1}$ and $10^{-4}$. Fix the colorbar by:"
   ]
  },
  {
   "cell_type": "markdown",
   "metadata": {},
   "source": [
    "The weak form:\n",
    "$$\n",
    "\\int_{\\Omega}\\{r u v+(b \\cdot \\nabla) u v+\\mu \\nabla u \\cdot \\nabla v\\}=\\int_{\\Omega} f v\n",
    "$$"
   ]
  },
  {
   "cell_type": "code",
   "execution_count": null,
   "metadata": {},
   "outputs": [],
   "source": []
  },
  {
   "cell_type": "markdown",
   "metadata": {},
   "source": [
    "Consider the problem from the exercise. Stabilize the problem with SUPG. The stabilization parameter is given by (one of the many definitions):\n",
    "$$\n",
    "\\delta_{T}=\\frac{h_{T}}{2\\|b\\|_{L^{\\infty}(K)}}\\left(\\frac{1}{\\tanh \\left(P e_{T}\\right)}-\\frac{1}{P e_{T}}\\right)\n",
    "$$\n",
    "where $P e_{T}=\\frac{\\|b\\|_{L^{\\infty}(K)} h_{T}}{2 \\mu}$ is the local element Peclet number-the ratio of advective to diffusive transport. $h_{T}$ is the length of the edge of triangle $T$, i.e., $h_{T}=\\frac{1}{N}$, and $\\|\\boldsymbol{b}\\|_{L^{\\infty}(K)}$ is the maximum norm of $\\boldsymbol{b}$ in element $T$. Since the element size $h=h_{T}$, the orientation of the elements and the advection velocity $\\boldsymbol{b}$ are uniform, the Peclet number $\\left(P e=P e_{T}\\right)$ and $\\delta=\\delta_{T}$ are constant over the domain! (Hint: compute $\\delta$ directly in python, not with a FEniCS Expression.)\n",
    "\n",
    "Compare visually the solutions with and without SUPG-stabilization, for both values of $\\mu$, against the analytical solution (0.5 points for each plot)."
   ]
  },
  {
   "cell_type": "markdown",
   "metadata": {},
   "source": [
    "The task now is to prove that the weak formulation including SUPG stabilization for Problem (1) has a unique solution for linear piecewise continuous finite elements, for $g=0, f=0, \\nabla \\cdot \\boldsymbol{b}=0, \\delta_{T} \\leq \\delta_{\\text {max }}$. Hint: eventually, you may need to use the triangle inequality. Prove:\n",
    "1. For $r \\geq 0, H_{0}^{1}(\\Omega)$-continuity of the bilinear form (0.75 points)\n",
    "2. For $r=0, H_{0}^{1}(\\Omega)$-ellipticity of the bilinear form (0.25 points)"
   ]
  },
  {
   "cell_type": "markdown",
   "metadata": {},
   "source": [
    "The weak form:\n",
    "$$\n",
    "\\int_{\\Omega}\\{r u v+(b \\cdot \\nabla) u v+(\\mu + \\delta)\\nabla u \\cdot \\nabla v\\}=\\int_{\\Omega} f v\n",
    "$$"
   ]
  },
  {
   "cell_type": "markdown",
   "metadata": {},
   "source": [
    "turns into"
   ]
  },
  {
   "cell_type": "markdown",
   "metadata": {},
   "source": [
    "$$\n",
    "\\int_{\\Omega}\\{r u v+(\\mu + \\delta)\\nabla u \\cdot \\nabla v\\}=0\n",
    "$$"
   ]
  },
  {
   "cell_type": "markdown",
   "metadata": {},
   "source": [
    "sinse $r \\geq 0$\n",
    "$$\n",
    "\\int_{\\Omega}\\{(\\mu + \\delta)\\nabla u \\cdot \\nabla v\\} \\leq 0\n",
    "$$"
   ]
  },
  {
   "cell_type": "code",
   "execution_count": null,
   "metadata": {},
   "outputs": [],
   "source": []
  },
  {
   "cell_type": "code",
   "execution_count": null,
   "metadata": {},
   "outputs": [],
   "source": []
  },
  {
   "cell_type": "markdown",
   "metadata": {},
   "source": [
    "2  goes the same as on page 45 as by LMT by the change of vaiables $\\mu_1 = (\\mu + \\delta)$"
   ]
  },
  {
   "cell_type": "code",
   "execution_count": null,
   "metadata": {},
   "outputs": [],
   "source": []
  }
 ],
 "metadata": {
  "kernelspec": {
   "display_name": "Python 3",
   "language": "python",
   "name": "python3"
  },
  "language_info": {
   "codemirror_mode": {
    "name": "ipython",
    "version": 3
   },
   "file_extension": ".py",
   "mimetype": "text/x-python",
   "name": "python",
   "nbconvert_exporter": "python",
   "pygments_lexer": "ipython3",
   "version": "3.6.9"
  }
 },
 "nbformat": 4,
 "nbformat_minor": 4
}
