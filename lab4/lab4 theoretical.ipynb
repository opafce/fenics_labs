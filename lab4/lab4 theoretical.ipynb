{
 "cells": [
  {
   "cell_type": "markdown",
   "metadata": {},
   "source": [
    "Consider the Stokes problem: Find $(\\boldsymbol{u}, p): \\Omega \\rightarrow \\mathbb{R}^{d+1}$ such that\n",
    "$$\n",
    "\\begin{aligned}\n",
    "-\\mu \\Delta \\boldsymbol{u}+\\nabla p &=0 \\quad \\text { in } \\Omega \\\\\n",
    "\\nabla \\cdot \\boldsymbol{u} &=0 \\quad \\text { in } \\Omega \\\\\n",
    "\\boldsymbol{u} &=\\boldsymbol{g}_{D} \\quad \\text { on } \\Gamma_{D} \\\\\n",
    "\\mu \\frac{\\partial \\boldsymbol{u}}{\\partial \\boldsymbol{n}}-p \\boldsymbol{n} &=g_{N} \\boldsymbol{n} \\quad \\text { on } \\Gamma_{N}\n",
    "\\end{aligned}\n",
    "$$\n",
    "in the two-dimensional ${ }^{1}$ (i.e. $d=2$ ) domain $\\Omega=\\{x, y \\in \\mathbb{R}:|y| \\leq 1,0 \\leq x \\leq L\\}, L=6$. The boundary conditions are defined as follows:\n",
    "- on $\\Gamma_{N}=\\{x, y \\in \\partial \\Omega: x=0$ and $x=L\\}: g_{N}= \\begin{cases}-1 & \\text { if } x=0, \\\\ 0 & \\text { if } x=L\\end{cases}$\n",
    "- on $\\Gamma_{D}=\\partial \\Omega \\backslash \\Gamma_{N}$ : no-slip conditions, $\\boldsymbol{g}_{D}=\\mathbf{0}$.\n",
    "The analytical solution of the Stokes problem in a straight channel is given by\n",
    "$$\n",
    "\\begin{aligned}\n",
    "p(x, y) &=G x+p_{0} \\\\\n",
    "u_{1}(x, y) &=-\\frac{G}{2 \\mu}\\left(1-y^{2}\\right) \\\\\n",
    "\\boldsymbol{u}(x, y) &=\\left(u_{1}(x, y), 0\\right) .\n",
    "\\end{aligned}\n",
    "$$\n",
    "The constants $G, p_{0}$ of the analytical solution can be computed by assuming $p=-g_{N}$ on $\\Gamma_{N}$."
   ]
  },
  {
   "cell_type": "markdown",
   "metadata": {},
   "source": []
  },
  {
   "cell_type": "markdown",
   "metadata": {},
   "source": [
    "\n",
    "\n",
    "\n",
    "$$a((u, p),(v, q))=L((v, q))$$\n",
    "\n",
    "$$\\begin{aligned} a((u, p),(v, q)) &=\\int_{\\Omega} \\nabla \\mu u \\cdot \\nabla v-\\nabla \\cdot v p+\\mu\\nabla \\cdot u q \\mathrm{~d} x \\\\ L((v, q)) &=\\int_{\\Omega} f \\cdot v \\mathrm{~d} x \\mathrm{~d} s . \\end{aligned}$$\n",
    "\n",
    "for all $(v, q) \\in W$, where\n",
    "$$\n",
    "\\begin{aligned}\n",
    "a((u, p),(v, q)) &=\\int_{\\Omega} \\mu\\nabla u \\cdot \\nabla v-\\nabla \\cdot v p+\\mu\\nabla \\cdot u q+\\epsilon \\nabla q \\cdot \\nabla p \\mathrm{~d} x \\\\\n",
    "L((v, q)) &=\\int_{\\Omega} f \\cdot v \\mathrm{~d} x+\\epsilon \\nabla q \\cdot f \\mathrm{~d} s\n",
    "\\end{aligned}\n",
    "$$\n",
    "where $\\epsilon=\\beta h^{2}$ and $\\beta$ is some number and $h$ is the mesh cell size."
   ]
  },
  {
   "cell_type": "markdown",
   "metadata": {},
   "source": []
  },
  {
   "cell_type": "markdown",
   "metadata": {},
   "source": [
    "**2.3.1**"
   ]
  },
  {
   "cell_type": "markdown",
   "metadata": {},
   "source": [
    "On the Dirichlet part of the boundary $\\left(\\Gamma_{\\mathrm{D}}^{i}\\right)$, the boundary integral vanishes since $v=0$.\n",
    "$$\\begin{aligned} a((u, p),(v, q)) &=\\int_{\\Omega} \\nabla \\mu u \\cdot \\nabla v-\\nabla \\cdot v p+\\mu\\nabla \\cdot u q \\mathrm{~d} x \\\\ L((v, q)) &=\\int_{\\Omega} f \\cdot v \\mathrm{~d} x \\mathrm{~d} s - \\sum_{i} \\int_{\\Gamma_{\\mathrm{N}}^{i}} g_{i} v \\mathrm{~d}. \\end{aligned}$$\n",
    "The Neuman integral is left only on the sides, the same as before. The Neumann integral on the symmetric boundary is zero. "
   ]
  },
  {
   "cell_type": "code",
   "execution_count": null,
   "metadata": {},
   "outputs": [],
   "source": []
  }
 ],
 "metadata": {
  "kernelspec": {
   "display_name": "Python 3",
   "language": "python",
   "name": "python3"
  },
  "language_info": {
   "codemirror_mode": {
    "name": "ipython",
    "version": 3
   },
   "file_extension": ".py",
   "mimetype": "text/x-python",
   "name": "python",
   "nbconvert_exporter": "python",
   "pygments_lexer": "ipython3",
   "version": "3.6.9"
  }
 },
 "nbformat": 4,
 "nbformat_minor": 4
}
