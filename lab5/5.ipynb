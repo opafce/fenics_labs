{
 "cells": [
  {
   "cell_type": "code",
   "execution_count": 1,
   "metadata": {},
   "outputs": [],
   "source": [
    "from dolfin import *\n",
    "import mshr\n",
    "import sympy as sym\n",
    "import numpy as np\n",
    "import matplotlib.pyplot as plt\n",
    "import matplotlib.animation\n",
    "from IPython.display import HTML \n",
    "import time"
   ]
  },
  {
   "cell_type": "code",
   "execution_count": 2,
   "metadata": {},
   "outputs": [],
   "source": [
    "def analytic2(mu, rho, T, L, dt, cnt):   \n",
    "    \n",
    "    a = []\n",
    "    omega = []\n",
    "    for i in range(1,4):\n",
    "        a.append(4000/i)\n",
    "        omega.append(i * 2 * np.pi)\n",
    "\n",
    "    x = np.linspace(0, L, 40)\n",
    "    \n",
    "    def cc(x):\n",
    "        return np.cos(x)*np.cosh(x)\n",
    "\n",
    "    def ss(x):\n",
    "        return np.sin(x)*np.sinh(x)\n",
    "\n",
    "    def periodic(t, omega, a):\n",
    "        k = np.sqrt(omega*rho/2./mu)\n",
    "        xs = x - L/2\n",
    "        f1 = cc(k*xs)*cc(k*L/2) + ss(k*xs)*ss(k*L/2)\n",
    "        f2 = cc(k*xs)*ss(k*L/2) - ss(k*xs)*cc(k*L/2)\n",
    "        f3 = cc(k*L/2)**2 + ss(k*L/2)**2\n",
    "        u = a/omega*(f2/f3*np.sin(omega*t) - (1 - f1/f3)*np.cos(omega*t))\n",
    "        return u\n",
    "    def transient(k, t, omega, a):\n",
    "        d = 4./(rho*np.pi*(2*k + 1)*((2*k + 1)**4*(mu/rho/L**2)**2*np.pi**4 +\n",
    "                                 omega**2))\n",
    "        S = np.sin(np.pi*(2*k + 1)*x/L)\n",
    "        psi = ((2*k + 1)**2*mu/rho/L**2*np.pi**2*np.sin(omega*t) -\n",
    "               omega*np.cos(omega*t) +\n",
    "               omega*np.exp(-(2*k + 1)**2*mu/rho/L**2*np.pi**2*t))\n",
    "\n",
    "        return a*d*S*psi\n",
    "    t = np.arange(0, T, dt)\n",
    "    #plt.ylim(-1.2, 2)\n",
    "    #plt.xlim(0, L)\n",
    "    up = np.zeros(shape=(len(t),len(x)))\n",
    "    ut = np.zeros(shape=(len(t),len(x)))\n",
    "              \n",
    "    count = 0\n",
    "\n",
    "    for t_ in t:      \n",
    "        up_var = periodic(t_, omega[cnt], a[cnt])\n",
    "        up[count] += up_var\n",
    "        ut_var = 0\n",
    "        for k in range(10):\n",
    "            ut_var += transient(k, t_, omega[cnt], a[cnt])\n",
    "        ut[count] += ut_var\n",
    "        count += 1\n",
    "    mmax = []\n",
    "    mmin = []\n",
    "    for i in range(len(ut)):\n",
    "        mmax.append(max(max(ut[i]), max(up[i])))\n",
    "        mmin.append(min(min(ut[i]), min(up[i])))\n",
    "    \n",
    "    \n",
    "    mmax = 1.1*max(mmax)\n",
    "    mmin = 1.1*min(mmin)\n",
    "    fig, ax = plt.subplots()\n",
    "    ax.axis([0, L,mmin, mmax])\n",
    "    pper,=ax.plot([],[])\n",
    "    ptrans,=ax.plot([],[])\n",
    "    \n",
    "    def ani(i): \n",
    "        #pper.set_data(x, up[i])\n",
    "        \n",
    "        ptrans.set_data(x, ut[i])\n",
    "    ani = matplotlib.animation.FuncAnimation(fig, ani, frames=len(t))\n",
    "    \n",
    "    return ani\n",
    "\n"
   ]
  },
  {
   "cell_type": "code",
   "execution_count": 22,
   "metadata": {},
   "outputs": [],
   "source": [
    "def analytic(mu, rho, T, L, dt, u_line, progress_flag, proceents):   \n",
    "    \n",
    "    a = []\n",
    "    omega = []\n",
    "    for i in range(1,4):\n",
    "        a.append(4000/i)\n",
    "        omega.append(i * 2 * np.pi)\n",
    "\n",
    "    x = np.linspace(0, L, 40)\n",
    "    \n",
    "    def cc(x):\n",
    "        return np.cos(x)*np.cosh(x)\n",
    "\n",
    "    def ss(x):\n",
    "        return np.sin(x)*np.sinh(x)\n",
    "\n",
    "    def periodic(t, omega, a):\n",
    "        k = np.sqrt(omega*rho/2./mu)\n",
    "        xs = x - L/2\n",
    "        f1 = cc(k*xs)*cc(k*L/2) + ss(k*xs)*ss(k*L/2)\n",
    "        f2 = cc(k*xs)*ss(k*L/2) - ss(k*xs)*cc(k*L/2)\n",
    "        f3 = cc(k*L/2)**2 + ss(k*L/2)**2\n",
    "        u = a/omega*(f2/f3*np.sin(omega*t) - (1 - f1/f3)*np.cos(omega*t))\n",
    "        return u\n",
    "    def transient(k, t, omega, a):\n",
    "        d = 4./(rho*np.pi*(2*k + 1)*((2*k + 1)**4*(mu/rho/L**2)**2*np.pi**4 +\n",
    "                                 omega**2))\n",
    "        S = np.sin(np.pi*(2*k + 1)*x/L)\n",
    "        psi = ((2*k + 1)**2*mu/rho/L**2*np.pi**2*np.sin(omega*t) -\n",
    "               omega*np.cos(omega*t) +\n",
    "               omega*np.exp(-(2*k + 1)**2*mu/rho/L**2*np.pi**2*t))\n",
    "\n",
    "        return a*d*S*psi\n",
    "    razn = 3*dt\n",
    "    t = np.arange(0 + razn, T + razn, dt)\n",
    "    #plt.ylim(-1.2, 2)\n",
    "    #plt.xlim(0, L)\n",
    "    up = np.zeros(shape=(len(t),len(x)))\n",
    "    ut = np.zeros(shape=(len(t),len(x)))\n",
    "              \n",
    "    count = 0\n",
    "    proceent = 0\n",
    "    for t_ in t:\n",
    "        if progress_flag == 1:\n",
    "            if int(t_/(T - dt)*100) >= proceent:\n",
    "                print(\"O/o =\", int(t_/(T - dt)* 100))\n",
    "                proceent+=proceents\n",
    "        for i in range(3):\n",
    "            up_var = periodic(t_, omega[i], a[i])\n",
    "            up[count] += up_var\n",
    "            ut_var = 0\n",
    "            for k in range(10):\n",
    "                ut_var += transient(k, t_, omega[i], a[i])\n",
    "            ut[count] += ut_var\n",
    "        count += 1\n",
    "    ut = ut\n",
    "    up = up\n",
    "    mmax = []\n",
    "    mmin = []\n",
    "    for i in range(len(u_line)):\n",
    "        mmax.append(max(max(u_line[i]), max(up[i]), max(ut[i])))\n",
    "        mmin.append(min(min(u_line[i]), min(up[i]), min(ut[i])))\n",
    "    \n",
    "    \n",
    "    mmax = 1.1*max(mmax)\n",
    "    mmin = 1.1*min(mmin)\n",
    "    fig, ax = plt.subplots()\n",
    "    ax.axis([0, L,mmin, mmax])\n",
    "    pper,=ax.plot([],[])\n",
    "    ptrans,=ax.plot([],[])\n",
    "    uline,=ax.plot([],[])\n",
    "    \n",
    "    def ani(i): \n",
    "        #pper.set_data(x, up[i])\n",
    "        \n",
    "        ptrans.set_data(x, ut[i])\n",
    "        uline.set_data(x, u_line[i])\n",
    "    ani = matplotlib.animation.FuncAnimation(fig, ani, frames=len(t))\n",
    "    \n",
    "    return ani\n"
   ]
  },
  {
   "cell_type": "code",
   "execution_count": 4,
   "metadata": {},
   "outputs": [],
   "source": [
    "def stokes_problem_no_p(N, Len, T, num_steps, mu, rho, epsilon, theta, p_flag, plot_flag, element_n, progress_flag, proceents, t_start):     \n",
    "    dt = T / num_steps # time step size\n",
    "    t = dt\n",
    "    p_f = p_flag\n",
    "    \n",
    "    mesh = RectangleMesh(Point(0, -1), Point(Len, 1), 2*N, Len*N)\n",
    "    h = CellDiameter(mesh)\n",
    "    \n",
    "    # Build function space\n",
    "    W = FunctionSpace(mesh, \"P\", element_n)\n",
    "    walls   = 'near(x[1], -1) || near(x[1], 1)'\n",
    "\n",
    "    # Define boundary conditions\n",
    "    bcu_noslip  = DirichletBC(W, Constant(0), walls)\n",
    "    bcs = [bcu_noslip]\n",
    "\n",
    "    # Define variational problem\n",
    "    u = TrialFunction(W)\n",
    "    v = TestFunction(W)\n",
    "    u0 = project(Constant(0), W)\n",
    "    vc = 4000/1*np.sin(2 * np.pi * t) + 4000/2*np.sin(4 * np.pi * t) + 4000/3*np.sin(6 * np.pi * t)\n",
    "    f = Constant(vc)\n",
    "    vc0 = 4000/1*np.sin(2 * np.pi * (t-dt)) + 4000/2*np.sin(4 * np.pi * (t-dt)) + 4000/3*np.sin(6 * np.pi * (t-dt))\n",
    "    f0 = Constant(vc0)\n",
    "\n",
    "    #folder = 'N' + str(N) + 'L' + str(L) + 'dt' + str(dt) + 'mu' + str(mu) + 'rho' + str(rho) + 'epsilon' + str(epsilon) + 'theta' + str(theta) + 'p_flag' + str(p_flag)\n",
    "    folder = 'pf=' + str(p_f) + ',dt=' + str(dt) + ',e=' + str(epsilon) + ',th=' + str(theta)  \n",
    "    \n",
    "    u_file = XDMFFile(folder + '/u.xdmf')\n",
    "    u_file.parameters['rewrite_function_mesh'] = False\n",
    "    u_file.parameters[\"flush_output\"] = True\n",
    "\n",
    "    # Time-stepping\n",
    "    proceent = 0\n",
    "    \n",
    "    vc_arr = np.zeros(num_steps)\n",
    "    t_arr = np.zeros(num_steps)\n",
    "    u_line_arr = []\n",
    "    \n",
    "    \n",
    "    for n in range(num_steps):\n",
    "        if progress_flag == 1:\n",
    "            if int(n/(num_steps-1)*100) >= proceent:\n",
    "                print(\"% =\", int(n/(num_steps-1) * 100), ', time mplsd =', int((time.time()-t_start)))\n",
    "                proceent+=proceents\n",
    "                #c = plot(u0)\n",
    "                #plt.colorbar(c)\n",
    "                #plt.show()\n",
    "        vc = 4000/1*np.sin(2 * np.pi * t) + 4000/2*np.sin(4 * np.pi * t) + 4000/3*np.sin(6 * np.pi * t)\n",
    "        f = Constant(-vc)\n",
    "        vc0 = 4000/1*np.sin(2 * np.pi * (t-dt)) + 4000/2*np.sin(4 * np.pi * (t-dt)) + 4000/3*np.sin(6 * np.pi * (t-dt))\n",
    "        f0 = Constant(-vc0)\n",
    "        a1 = (mu*dot(grad(u0), grad(v)))*dx\n",
    "        L1 = f0*v/Len*dx\n",
    "        a2 = (mu*dot(grad(u), grad(v)))*dx\n",
    "        L2 = f*v/Len*dx\n",
    "        \n",
    "        vc_arr[n] = vc\n",
    "        t_arr[n] = t\n",
    "        U = Function(W)\n",
    "        a = dot(u,v) * dx + (theta) * (a2)\n",
    "        L =  (1 - theta) * (a1 - L1) - (theta) * L2 - dot(u0,v)*dx\n",
    "        solve(a == L, U, bcs)\n",
    "        u0 = U\n",
    "        u0.rename(\"v0\", \"velocity\")\n",
    "        u_file.write(u0, t)\n",
    "        t += dt\n",
    "        x_ = 3\n",
    "        y = np.linspace(-1, 1, 40)\n",
    "        u_line = []\n",
    "        #print(type(L))\n",
    "        for i in y:\n",
    "            u_line.append(u0(x_, i))\n",
    "        u_line_arr.append(u_line)\n",
    "\n",
    "\n",
    "    #file close\n",
    "    u_file.close()\n",
    "    if plot_flag == 1:\n",
    "        plt.plot(t_arr,vc_arr)\n",
    "    return u_line_arr"
   ]
  },
  {
   "cell_type": "code",
   "execution_count": 17,
   "metadata": {},
   "outputs": [],
   "source": [
    "def stokes_problem_p(N, Len, T, num_steps, mu, rho, epsilon, theta, p_flag, plot_flag, element_n, progress_flag, proceents, t_start):     \n",
    "    dt = T / num_steps # time step size\n",
    "    t = dt\n",
    "    p_f = p_flag\n",
    "    \n",
    "    mesh = RectangleMesh(Point(0, -1), Point(Len, 1), 2*N, Len*N)\n",
    "    h = CellDiameter(mesh)\n",
    "    \n",
    "    # Build function space\n",
    "    P2 = VectorElement(\"P\", mesh.ufl_cell(), element_n)\n",
    "    P1 = FiniteElement(\"P\", mesh.ufl_cell(), 1)\n",
    "    TH = P2 * P1\n",
    "    W = FunctionSpace(mesh, TH)\n",
    "    walls   = 'near(x[1], -1) || near(x[1], 1)'\n",
    "\n",
    "    # Define boundary conditions\n",
    "    bcu_noslip  = DirichletBC(W.sub(0), Constant((0, 0)), walls)\n",
    "    bcs = [bcu_noslip]\n",
    "\n",
    "    # Define variational problem\n",
    "    (u, p) = TrialFunctions(W)\n",
    "    (v, q) = TestFunctions(W)\n",
    "    u0 = project(Constant((0, 0)), VectorFunctionSpace(mesh, \"P\", 4))\n",
    "    p0 = project(Constant(0), FunctionSpace(mesh, \"P\", 4))\n",
    "\n",
    "\n",
    "\n",
    "    vc = 4000/1*np.sin(2 * np.pi * t) + 4000/2*np.sin(4 * np.pi * t) + 4000/3*np.sin(6 * np.pi * t)\n",
    "    f = Constant((vc, 0))\n",
    "    vc0 = 4000/1*np.sin(2 * np.pi * (t-dt)) + 4000/2*np.sin(4 * np.pi * (t-dt)) + 4000/3*np.sin(6 * np.pi * (t-dt))\n",
    "    f0 = Constant((vc0, 0))\n",
    "\n",
    "    #folder = 'N' + str(N) + 'L' + str(L) + 'dt' + str(dt) + 'mu' + str(mu) + 'rho' + str(rho) + 'epsilon' + str(epsilon) + 'theta' + str(theta) + 'p_flag' + str(p_flag)\n",
    "    folder = 'pf=' + str(p_f) + ',dt=' + str(dt) + ',e=' + str(epsilon) + ',th=' + str(theta)  \n",
    "    \n",
    "    u_file = XDMFFile(folder + '/u.xdmf')\n",
    "    p_file = XDMFFile(folder + '/p.xdmf')\n",
    "    u_file.parameters['rewrite_function_mesh'] = False\n",
    "    p_file.parameters['rewrite_function_mesh'] = False\n",
    "    u_file.parameters[\"flush_output\"] = True\n",
    "    p_file.parameters[\"flush_output\"] = True\n",
    "\n",
    "    # Time-stepping\n",
    "    proceent = 0\n",
    "    \n",
    "    vc_arr = np.zeros(num_steps)\n",
    "    t_arr = np.zeros(num_steps)\n",
    "    u_line_arr = []\n",
    "    \n",
    "    for n in range(num_steps):\n",
    "        if progress_flag == 1:\n",
    "            if int(n/(num_steps-1)*100) >= proceent:\n",
    "                print(\"% =\", int(n/(num_steps-1) * 100), ', time mplsd =', int((time.time()-t_start)))\n",
    "                proceent+=proceents\n",
    "        vc = 4000/1*np.sin(2 * np.pi * t) + 4000/2*np.sin(4 * np.pi * t) + 4000/3*np.sin(6 * np.pi * t)\n",
    "        f = Constant((vc, 0))\n",
    "        vc0 = 4000/1*np.sin(2 * np.pi * (t-dt)) + 4000/2*np.sin(4 * np.pi * (t-dt)) + 4000/3*np.sin(6 * np.pi * (t-dt))\n",
    "        f0 = Constant((vc0, 0))\n",
    "        a1 = (mu*inner(grad(u0), grad(v)) + div(v)*p0 + mu*q*div(u0) + epsilon*h*h/mu*inner(grad(q), grad(p0)))*dx\n",
    "        L1 = inner(f0, v)*dx\n",
    "        a2 = (mu*inner(grad(u), grad(v)) + div(v)*p + mu*q*div(u) + epsilon*h*h/mu*inner(grad(q), grad(p)))*dx\n",
    "        L2 = inner(f, v)*dx\n",
    "    \n",
    "        U = Function(W)\n",
    "        \n",
    "        vc_arr[n] = vc\n",
    "        t_arr[n] = t\n",
    "        \n",
    "        a = inner(u,v) * dx + (theta) * (a2)\n",
    "        L =  (1 - theta) * (a1 - L1) - (theta) * L2 - inner(u0,v)*dx\n",
    "        solve(a == L, U, bcs)\n",
    "        u0, p0 = U.split()\n",
    "        u0.rename(\"v0\", \"velocity\")\n",
    "        p0.rename(\"p0\", \"pressure\")\n",
    "        u_file.write(u0, t)\n",
    "        p_file.write(p0, t)\n",
    "        t += dt\n",
    "        x_ = 3\n",
    "        y = np.linspace(-1, 1, 40)\n",
    "        u_line = []\n",
    "        for i in y:\n",
    "            u_line.append(u0(x_, i)[0])\n",
    "        u_line_arr.append(u_line)\n",
    "    #file close\n",
    "    u_file.close()\n",
    "    p_file.close()\n",
    "    if plot_flag == 1:\n",
    "        plt.plot(t_arr,vc_arr)\n",
    "    return u_line_arr"
   ]
  },
  {
   "cell_type": "code",
   "execution_count": 6,
   "metadata": {},
   "outputs": [],
   "source": [
    "def stokes_problem(N, L, T, num_steps, mu, rho, epsilon, theta, p_flag, plot_flag, element_n, progress_flag, proceents, t_start):     \n",
    "    if p_flag == 1:\n",
    "        u_line_arr = stokes_problem_p(N, L, T, num_steps, mu, rho, epsilon, theta, p_flag, plot_flag, element_n, progress_flag, proceents, t_start)\n",
    "    if p_flag == 0:\n",
    "        u_line_arr = stokes_problem_no_p(N, L, T, num_steps, mu, rho, epsilon, theta, p_flag, plot_flag, element_n, progress_flag, proceents, t_start)\n",
    "    return u_line_arr"
   ]
  },
  {
   "cell_type": "markdown",
   "metadata": {},
   "source": [
    "assignment 1.2.5"
   ]
  },
  {
   "cell_type": "code",
   "execution_count": 1,
   "metadata": {
    "tags": []
   },
   "outputs": [
    {
     "ename": "NameError",
     "evalue": "name 'time' is not defined",
     "output_type": "error",
     "traceback": [
      "\u001b[0;31m---------------------------------------------------------------------------\u001b[0m",
      "\u001b[0;31mNameError\u001b[0m                                 Traceback (most recent call last)",
      "\u001b[0;32m/var/folders/83/2rqfgzgj2lqdhf2s0gryn6sc0000gn/T/ipykernel_5891/2365549752.py\u001b[0m in \u001b[0;36m<module>\u001b[0;34m\u001b[0m\n\u001b[0;32m----> 1\u001b[0;31m \u001b[0mt_start\u001b[0m \u001b[0;34m=\u001b[0m \u001b[0mtime\u001b[0m\u001b[0;34m.\u001b[0m\u001b[0mtime\u001b[0m\u001b[0;34m(\u001b[0m\u001b[0;34m)\u001b[0m\u001b[0;34m\u001b[0m\u001b[0;34m\u001b[0m\u001b[0m\n\u001b[0m\u001b[1;32m      2\u001b[0m \u001b[0mN\u001b[0m \u001b[0;34m=\u001b[0m \u001b[0;36m16\u001b[0m\u001b[0;34m\u001b[0m\u001b[0;34m\u001b[0m\u001b[0m\n\u001b[1;32m      3\u001b[0m \u001b[0mL\u001b[0m \u001b[0;34m=\u001b[0m \u001b[0;36m6\u001b[0m\u001b[0;34m\u001b[0m\u001b[0;34m\u001b[0m\u001b[0m\n\u001b[1;32m      4\u001b[0m \u001b[0mT\u001b[0m \u001b[0;34m=\u001b[0m \u001b[0;36m2.\u001b[0m           \u001b[0;31m# final time\u001b[0m\u001b[0;34m\u001b[0m\u001b[0;34m\u001b[0m\u001b[0m\n\u001b[1;32m      5\u001b[0m \u001b[0mnum_steps\u001b[0m \u001b[0;34m=\u001b[0m \u001b[0;36m500\u001b[0m    \u001b[0;31m# number of time steps\u001b[0m\u001b[0;34m\u001b[0m\u001b[0;34m\u001b[0m\u001b[0m\n",
      "\u001b[0;31mNameError\u001b[0m: name 'time' is not defined"
     ]
    }
   ],
   "source": [
    "t_start = time.time()\n",
    "N = 16\n",
    "L = 6\n",
    "T = 2.           # final time\n",
    "num_steps = 500    # number of time steps\n",
    "dt = T/num_steps\n",
    "mu = 0.035            # kinematic viscosity\n",
    "rho = 1.2            # density\n",
    "epsilon = 0\n",
    "theta = 1\n",
    "p_flag = 0\n",
    "f_plot_flag = 1\n",
    "element_n = 1\n",
    "progress_flag = 1\n",
    "proceents = 10\n",
    "u_line = stokes_problem(N, L, T, num_steps, mu, rho, epsilon, theta, p_flag, f_plot_flag, element_n, progress_flag, proceents, t_start)\n",
    "u_line = np.array(u_line)\n",
    "\n",
    "ani = analytic(mu, rho, T, 2, dt, u_line, progress_flag, proceents)\n",
    "print('time mplsd =', int((time.time()-t_start)))\n",
    "HTML(ani.to_jshtml())"
   ]
  },
  {
   "cell_type": "code",
   "execution_count": 2,
   "metadata": {},
   "outputs": [
    {
     "ename": "NameError",
     "evalue": "name 'time' is not defined",
     "output_type": "error",
     "traceback": [
      "\u001b[0;31m---------------------------------------------------------------------------\u001b[0m",
      "\u001b[0;31mNameError\u001b[0m                                 Traceback (most recent call last)",
      "\u001b[0;32m/var/folders/83/2rqfgzgj2lqdhf2s0gryn6sc0000gn/T/ipykernel_5891/3241151877.py\u001b[0m in \u001b[0;36m<module>\u001b[0;34m\u001b[0m\n\u001b[0;32m----> 1\u001b[0;31m \u001b[0mt_start\u001b[0m \u001b[0;34m=\u001b[0m \u001b[0mtime\u001b[0m\u001b[0;34m.\u001b[0m\u001b[0mtime\u001b[0m\u001b[0;34m(\u001b[0m\u001b[0;34m)\u001b[0m\u001b[0;34m\u001b[0m\u001b[0;34m\u001b[0m\u001b[0m\n\u001b[0m\u001b[1;32m      2\u001b[0m \u001b[0mN\u001b[0m \u001b[0;34m=\u001b[0m \u001b[0;36m16\u001b[0m\u001b[0;34m\u001b[0m\u001b[0;34m\u001b[0m\u001b[0m\n\u001b[1;32m      3\u001b[0m \u001b[0mL\u001b[0m \u001b[0;34m=\u001b[0m \u001b[0;36m6\u001b[0m\u001b[0;34m\u001b[0m\u001b[0;34m\u001b[0m\u001b[0m\n\u001b[1;32m      4\u001b[0m \u001b[0mT\u001b[0m \u001b[0;34m=\u001b[0m \u001b[0;36m2.\u001b[0m           \u001b[0;31m# final time\u001b[0m\u001b[0;34m\u001b[0m\u001b[0;34m\u001b[0m\u001b[0m\n\u001b[1;32m      5\u001b[0m \u001b[0mnum_steps\u001b[0m \u001b[0;34m=\u001b[0m \u001b[0;36m1000\u001b[0m    \u001b[0;31m# number of time steps\u001b[0m\u001b[0;34m\u001b[0m\u001b[0;34m\u001b[0m\u001b[0m\n",
      "\u001b[0;31mNameError\u001b[0m: name 'time' is not defined"
     ]
    }
   ],
   "source": [
    "t_start = time.time()\n",
    "N = 16\n",
    "L = 6\n",
    "T = 2.           # final time\n",
    "num_steps = 1000    # number of time steps\n",
    "dt = T/num_steps\n",
    "mu = 0.035            # kinematic viscosity\n",
    "rho = 1.2            # density\n",
    "epsilon = 0\n",
    "theta = 0.5\n",
    "p_flag = 0\n",
    "f_plot_flag = 1\n",
    "element_n = 1\n",
    "progress_flag = 1\n",
    "proceents = 10\n",
    "u_line = stokes_problem(N, L, T, num_steps, mu, rho, epsilon, theta, p_flag, f_plot_flag, element_n, progress_flag, proceents, t_start)\n",
    "u_line = np.array(u_line)\n",
    "\n",
    "ani = analytic(mu, rho, T, 2, dt, u_line, progress_flag, proceents)\n",
    "print('time mplsd =', int((time.time()-t_start)))\n",
    "HTML(ani.to_jshtml())"
   ]
  },
  {
   "cell_type": "markdown",
   "metadata": {},
   "source": [
    "assignment 1.2.6"
   ]
  },
  {
   "cell_type": "code",
   "execution_count": 3,
   "metadata": {},
   "outputs": [
    {
     "ename": "NameError",
     "evalue": "name 'time' is not defined",
     "output_type": "error",
     "traceback": [
      "\u001b[0;31m---------------------------------------------------------------------------\u001b[0m",
      "\u001b[0;31mNameError\u001b[0m                                 Traceback (most recent call last)",
      "\u001b[0;32m/var/folders/83/2rqfgzgj2lqdhf2s0gryn6sc0000gn/T/ipykernel_5891/3720886373.py\u001b[0m in \u001b[0;36m<module>\u001b[0;34m\u001b[0m\n\u001b[0;32m----> 1\u001b[0;31m \u001b[0mprint\u001b[0m\u001b[0;34m(\u001b[0m\u001b[0;34m'time mplsd ='\u001b[0m\u001b[0;34m,\u001b[0m \u001b[0mint\u001b[0m\u001b[0;34m(\u001b[0m\u001b[0;34m(\u001b[0m\u001b[0mtime\u001b[0m\u001b[0;34m.\u001b[0m\u001b[0mtime\u001b[0m\u001b[0;34m(\u001b[0m\u001b[0;34m)\u001b[0m\u001b[0;34m-\u001b[0m\u001b[0mt_start\u001b[0m\u001b[0;34m)\u001b[0m\u001b[0;34m)\u001b[0m\u001b[0;34m)\u001b[0m\u001b[0;34m\u001b[0m\u001b[0;34m\u001b[0m\u001b[0m\n\u001b[0m\u001b[1;32m      2\u001b[0m \u001b[0mt_start\u001b[0m \u001b[0;34m=\u001b[0m \u001b[0mtime\u001b[0m\u001b[0;34m.\u001b[0m\u001b[0mtime\u001b[0m\u001b[0;34m(\u001b[0m\u001b[0;34m)\u001b[0m\u001b[0;34m\u001b[0m\u001b[0;34m\u001b[0m\u001b[0m\n\u001b[1;32m      3\u001b[0m \u001b[0mN\u001b[0m \u001b[0;34m=\u001b[0m \u001b[0;36m4\u001b[0m\u001b[0;34m\u001b[0m\u001b[0;34m\u001b[0m\u001b[0m\n\u001b[1;32m      4\u001b[0m \u001b[0mL\u001b[0m \u001b[0;34m=\u001b[0m \u001b[0;36m6\u001b[0m\u001b[0;34m\u001b[0m\u001b[0;34m\u001b[0m\u001b[0m\n\u001b[1;32m      5\u001b[0m \u001b[0mT\u001b[0m \u001b[0;34m=\u001b[0m \u001b[0;36m2\u001b[0m           \u001b[0;31m# final time\u001b[0m\u001b[0;34m\u001b[0m\u001b[0;34m\u001b[0m\u001b[0m\n",
      "\u001b[0;31mNameError\u001b[0m: name 'time' is not defined"
     ]
    }
   ],
   "source": [
    "print('time mplsd =', int((time.time()-t_start)))\n",
    "t_start = time.time()\n",
    "N = 4\n",
    "L = 6\n",
    "T = 2           # final time\n",
    "num_steps = 20000    # number of time steps\n",
    "dt = T/num_steps\n",
    "theta = 0\n",
    "u_line = stokes_problem(N, L, T, num_steps, mu, rho, epsilon, theta, p_flag, f_plot_flag, element_n, progress_flag, proceents, t_start)\n",
    "u_line = np.array(u_line)\n",
    "ani = analytic(mu, rho, T, L, dt, u_line, progress_flag, proceents)\n",
    "print('time mplsd =', int((time.time()-t_start)))\n",
    "HTML(ani.to_jshtml())"
   ]
  },
  {
   "cell_type": "markdown",
   "metadata": {},
   "source": [
    "assignment 1.2.7\n",
    "\n",
    "The CFL condition then has the following form:\n",
    "$$\n",
    "C=\\frac{u \\Delta t}{h} \\leq C_{\\max }\n",
    "$$\n",
    "so with decreasing the $h$ or increasin of the $N_y$ we overcome the $C_{\\max }$ and the solution becomes unstable"
   ]
  },
  {
   "cell_type": "markdown",
   "metadata": {},
   "source": [
    "assignment 1.3.3\n",
    "\n",
    "$$\n",
    "\\begin{aligned}\n",
    "\\rho \\int_{\\Omega}{\\frac{\\vec{u}_{n}^{k+1} -\\vec{u}_{n}^{k+n}}{\\tau}} \\cdot \\vec{v}_{n}+\\mu \\int_{\\Omega} \\nabla \\vec{u}_{n}^{k+\\theta}: \\nabla \\vec{v}_{n} \\\\\n",
    "&-\\int_{\\Omega}{p^{k+\\theta} \\nabla \\cdot \\vec{v}_{n}}+\\int_{\\Omega} g_{n} \\nabla \\cdot \\vec{u}_{n}^{k+\\theta}=0\n",
    "\\end{aligned}\n",
    "$$\n",
    "\n",
    "$\n",
    "\\text { Lyapunov: } \\quad \\vec{v}_{n}=\\vec{u}_{n}^{k+\\theta}\n",
    "$"
   ]
  },
  {
   "cell_type": "markdown",
   "metadata": {},
   "source": [
    "Energy balance for discrete Stokes\n",
    "$$\n",
    "\\begin{aligned}\n",
    "\\frac{\\rho}{2} \\int_{\\Omega}\\left\\|\\vec{u}_{n}^{k+1}\\right\\|^{2}-\\frac{\\rho}{2} &\\int_{\\Omega}{ \\| \\vec{u}_{n}^{k} \\|^{2}}+\\left(\\theta-\\frac{1}{2}\\right)\\int_{\\Omega}{\\left\\|u_{n}^{k+1}-\\vec{u}_{n}^{k}\\right\\|^{2}} \\\\\n",
    "&=-\\tau \\mu \\int_{\\Omega}\\left\\|\\nabla \\vec{u}_{n}^{k+\\theta}\\right\\|^{2}\n",
    "\\end{aligned}\n",
    "$$"
   ]
  },
  {
   "cell_type": "markdown",
   "metadata": {},
   "source": [
    "Note: pressure does not appear because $0=\\int_{\\Omega} g_{n} \\nabla \\cdot u_{n}^{k+1}$, where $g_{n} = p_{n}^{k+\\theta}$ \n",
    "\n",
    "Unconditionally stable for $\\theta \\geqslant 1 / 2 $"
   ]
  },
  {
   "cell_type": "markdown",
   "metadata": {},
   "source": [
    "assignment 1.4.2 \n",
    "\n",
    "for epsilon stabilization we have an additional term \n",
    "$$\n",
    "\\frac{\\varepsilon h^{2}}{\\mu} \\int_{\\Omega} \\nabla p_{h}^{k+\\theta} \\cdot \\nabla g_{n}=0\n",
    "$$"
   ]
  },
  {
   "cell_type": "markdown",
   "metadata": {},
   "source": [
    "Stabilized stokes $\\left(\\mathbb{P}_{1}\\left(\\mathbb{P}_{1}\\right)\\right.$\n",
    "$\\rho \\int_{\\Omega} \\frac{\\vec{u}_{n}^{k+1}-\\vec u_{n}^{k}}{\\tau} \\cdot \\vec{v}_{n}+\\mu \\int_{\\Omega} \\nabla \\vec{u}_{n}^{k+\\theta}: \\nabla \\vec{v}_{n}$\n",
    "\n",
    "$-\\int_{\\Omega} P_{h}^{k+\\theta} \\nabla \\cdot \\vec{v}_{n}+\\int_{\\Omega} g_{n} \\nabla \\cdot \\vec{u}_{n}^{k+\\theta}$\n",
    "\n",
    "$\\vec{v}_{n}=\\vec{u}_{n}^{k+\\theta}$, $g_{n}=p_{h}^{k+\\theta}$\n",
    "\n",
    "$+\\frac{\\varepsilon h^{2}}{\\mu} \\int_{\\Omega} \\nabla_{p_{h}^{k+\\theta}} \\cdot \\nabla g_{n}=0$\n"
   ]
  },
  {
   "cell_type": "markdown",
   "metadata": {},
   "source": [
    "$E_{K+1}-E_{k}=\\tau D_{K+\\theta}+\\left(\\frac{1}{2}-\\theta\\right) \\int_{\\Omega} \\rho\\left\\|\\cdot u_{n}^{k+1}-u_{n}^{k}\\right\\|^{2}$\n",
    "\n",
    "$-\\int_{\\Omega} p_{n}^{k+\\theta} \\nabla \\cdot u_{n}^{k+\\theta}+\\int_{\\Omega} p_{n}^{k+\\theta} \\nabla \\cdot \\vec{u}_{n}^{k+\\theta}-\\frac{\\tau \\varepsilon h^{2}}{\\mu} \\int_{\\Omega} \\| \\nabla p_{n}^{k+\\theta} \\|^{2}$\n",
    "\n"
   ]
  },
  {
   "cell_type": "markdown",
   "metadata": {},
   "source": [
    "$E_{K+1}-E_{k}=\\tau D_{K+\\theta}+\\left(\\frac{1}{2}-\\theta\\right) \\int_{\\Omega} \\rho\\left\\|\\cdot u_{n}^{k+1}-u_{n}^{k}\\right\\|^{2}-\\frac{\\tau \\varepsilon h^{2}}{\\mu} \\int_{\\Omega} \\| \\nabla p_{n}^{k+\\theta} \\|^{2}$"
   ]
  },
  {
   "cell_type": "markdown",
   "metadata": {},
   "source": [
    "if theta is more or equals than 1/2\n",
    "\n",
    "$E_{k+1}< E_{k}$ since $\\tau D_{K+\\theta} < 0$ and $-\\frac{\\tau \\varepsilon h^{2}}{\\mu} \\int_{\\Omega} \\| \\nabla p_{n}^{k+\\theta} \\|^{2}<0$"
   ]
  },
  {
   "cell_type": "markdown",
   "metadata": {},
   "source": [
    "assignment 1.3.4"
   ]
  },
  {
   "cell_type": "code",
   "execution_count": 4,
   "metadata": {},
   "outputs": [
    {
     "ename": "NameError",
     "evalue": "name 'time' is not defined",
     "output_type": "error",
     "traceback": [
      "\u001b[0;31m---------------------------------------------------------------------------\u001b[0m",
      "\u001b[0;31mNameError\u001b[0m                                 Traceback (most recent call last)",
      "\u001b[0;32m/var/folders/83/2rqfgzgj2lqdhf2s0gryn6sc0000gn/T/ipykernel_5891/1782549730.py\u001b[0m in \u001b[0;36m<module>\u001b[0;34m\u001b[0m\n\u001b[1;32m     12\u001b[0m \u001b[0melement_n\u001b[0m \u001b[0;34m=\u001b[0m \u001b[0;36m2\u001b[0m\u001b[0;34m\u001b[0m\u001b[0;34m\u001b[0m\u001b[0m\n\u001b[1;32m     13\u001b[0m \u001b[0mprogress_flag\u001b[0m \u001b[0;34m=\u001b[0m \u001b[0;36m0\u001b[0m\u001b[0;34m\u001b[0m\u001b[0;34m\u001b[0m\u001b[0m\n\u001b[0;32m---> 14\u001b[0;31m \u001b[0mt_start\u001b[0m \u001b[0;34m=\u001b[0m \u001b[0mtime\u001b[0m\u001b[0;34m.\u001b[0m\u001b[0mtime\u001b[0m\u001b[0;34m(\u001b[0m\u001b[0;34m)\u001b[0m\u001b[0;34m\u001b[0m\u001b[0;34m\u001b[0m\u001b[0m\n\u001b[0m\u001b[1;32m     15\u001b[0m \u001b[0mu_line\u001b[0m \u001b[0;34m=\u001b[0m \u001b[0mstokes_problem\u001b[0m\u001b[0;34m(\u001b[0m\u001b[0mN\u001b[0m\u001b[0;34m,\u001b[0m \u001b[0mL\u001b[0m\u001b[0;34m,\u001b[0m \u001b[0mT\u001b[0m\u001b[0;34m,\u001b[0m \u001b[0mnum_steps\u001b[0m\u001b[0;34m,\u001b[0m \u001b[0mmu\u001b[0m\u001b[0;34m,\u001b[0m \u001b[0mrho\u001b[0m\u001b[0;34m,\u001b[0m \u001b[0mepsilon\u001b[0m\u001b[0;34m,\u001b[0m \u001b[0mtheta\u001b[0m\u001b[0;34m,\u001b[0m \u001b[0mp_flag\u001b[0m\u001b[0;34m,\u001b[0m \u001b[0mf_plot_flag\u001b[0m\u001b[0;34m,\u001b[0m \u001b[0melement_n\u001b[0m\u001b[0;34m,\u001b[0m \u001b[0mprogress_flag\u001b[0m\u001b[0;34m,\u001b[0m \u001b[0mproceents\u001b[0m\u001b[0;34m,\u001b[0m \u001b[0mt_start\u001b[0m\u001b[0;34m)\u001b[0m\u001b[0;34m\u001b[0m\u001b[0;34m\u001b[0m\u001b[0m\n\u001b[1;32m     16\u001b[0m \u001b[0mu_line\u001b[0m \u001b[0;34m=\u001b[0m \u001b[0mnp\u001b[0m\u001b[0;34m.\u001b[0m\u001b[0marray\u001b[0m\u001b[0;34m(\u001b[0m\u001b[0mu_line\u001b[0m\u001b[0;34m)\u001b[0m\u001b[0;34m\u001b[0m\u001b[0;34m\u001b[0m\u001b[0m\n",
      "\u001b[0;31mNameError\u001b[0m: name 'time' is not defined"
     ]
    }
   ],
   "source": [
    "N = 16\n",
    "L = 6\n",
    "T = 10           # final time\n",
    "num_steps = 1000    # number of time steps\n",
    "dt = T/num_steps\n",
    "mu = 0.035             # kinematic viscosity\n",
    "rho = 1.2            # density\n",
    "epsilon = 0\n",
    "theta = 0.5\n",
    "p_flag = 1\n",
    "f_plot_flag = 0\n",
    "element_n = 2\n",
    "progress_flag = 0\n",
    "t_start = time.time()\n",
    "u_line = stokes_problem(N, L, T, num_steps, mu, rho, epsilon, theta, p_flag, f_plot_flag, element_n, progress_flag, proceents, t_start)\n",
    "u_line = np.array(u_line)\n",
    "ani = analytic(mu, rho, T, 2, dt, u_line, progress_flag, proceents)\n",
    "print('time mplsd =', int((time.time()-t_start)))\n",
    "HTML(ani.to_jshtml())"
   ]
  },
  {
   "cell_type": "markdown",
   "metadata": {},
   "source": [
    "assignment 1.3.5"
   ]
  },
  {
   "cell_type": "code",
   "execution_count": 5,
   "metadata": {},
   "outputs": [
    {
     "ename": "NameError",
     "evalue": "name 'time' is not defined",
     "output_type": "error",
     "traceback": [
      "\u001b[0;31m---------------------------------------------------------------------------\u001b[0m",
      "\u001b[0;31mNameError\u001b[0m                                 Traceback (most recent call last)",
      "\u001b[0;32m/var/folders/83/2rqfgzgj2lqdhf2s0gryn6sc0000gn/T/ipykernel_5891/3499175669.py\u001b[0m in \u001b[0;36m<module>\u001b[0;34m\u001b[0m\n\u001b[1;32m     12\u001b[0m \u001b[0melement_n\u001b[0m \u001b[0;34m=\u001b[0m \u001b[0;36m2\u001b[0m\u001b[0;34m\u001b[0m\u001b[0;34m\u001b[0m\u001b[0m\n\u001b[1;32m     13\u001b[0m \u001b[0mprogress_flag\u001b[0m \u001b[0;34m=\u001b[0m \u001b[0;36m1\u001b[0m\u001b[0;34m\u001b[0m\u001b[0;34m\u001b[0m\u001b[0m\n\u001b[0;32m---> 14\u001b[0;31m \u001b[0mt_start\u001b[0m \u001b[0;34m=\u001b[0m \u001b[0mtime\u001b[0m\u001b[0;34m.\u001b[0m\u001b[0mtime\u001b[0m\u001b[0;34m(\u001b[0m\u001b[0;34m)\u001b[0m\u001b[0;34m\u001b[0m\u001b[0;34m\u001b[0m\u001b[0m\n\u001b[0m\u001b[1;32m     15\u001b[0m \u001b[0mproceents\u001b[0m \u001b[0;34m=\u001b[0m \u001b[0;36m10\u001b[0m\u001b[0;34m\u001b[0m\u001b[0;34m\u001b[0m\u001b[0m\n\u001b[1;32m     16\u001b[0m \u001b[0mu_line\u001b[0m \u001b[0;34m=\u001b[0m \u001b[0mstokes_problem\u001b[0m\u001b[0;34m(\u001b[0m\u001b[0mN\u001b[0m\u001b[0;34m,\u001b[0m \u001b[0mL\u001b[0m\u001b[0;34m,\u001b[0m \u001b[0mT\u001b[0m\u001b[0;34m,\u001b[0m \u001b[0mnum_steps\u001b[0m\u001b[0;34m,\u001b[0m \u001b[0mmu\u001b[0m\u001b[0;34m,\u001b[0m \u001b[0mrho\u001b[0m\u001b[0;34m,\u001b[0m \u001b[0mepsilon\u001b[0m\u001b[0;34m,\u001b[0m \u001b[0mtheta\u001b[0m\u001b[0;34m,\u001b[0m \u001b[0mp_flag\u001b[0m\u001b[0;34m,\u001b[0m \u001b[0mf_plot_flag\u001b[0m\u001b[0;34m,\u001b[0m \u001b[0melement_n\u001b[0m\u001b[0;34m,\u001b[0m \u001b[0mprogress_flag\u001b[0m\u001b[0;34m,\u001b[0m \u001b[0mproceents\u001b[0m\u001b[0;34m,\u001b[0m \u001b[0mt_start\u001b[0m\u001b[0;34m)\u001b[0m\u001b[0;34m\u001b[0m\u001b[0;34m\u001b[0m\u001b[0m\n",
      "\u001b[0;31mNameError\u001b[0m: name 'time' is not defined"
     ]
    }
   ],
   "source": [
    "N = 32\n",
    "L = 6\n",
    "T = 2           # final time\n",
    "num_steps = 100    # number of time steps\n",
    "dt = T/num_steps\n",
    "mu = 0.035             # kinematic viscosity\n",
    "rho = 1.2            # density\n",
    "epsilon = 0\n",
    "theta = 0.1\n",
    "p_flag = 1\n",
    "f_plot_flag = 0\n",
    "element_n = 2\n",
    "progress_flag = 1\n",
    "t_start = time.time()\n",
    "proceents = 10\n",
    "u_line = stokes_problem(N, L, T, num_steps, mu, rho, epsilon, theta, p_flag, f_plot_flag, element_n, progress_flag, proceents, t_start)\n",
    "u_line = np.array(u_line)\n",
    "ani = analytic(mu, rho, T, 2, dt, u_line, progress_flag, proceents)\n",
    "print('time mplsd =', int((time.time()-t_start)))\n",
    "HTML(ani.to_jshtml())"
   ]
  },
  {
   "cell_type": "code",
   "execution_count": 6,
   "metadata": {},
   "outputs": [
    {
     "ename": "NameError",
     "evalue": "name 'time' is not defined",
     "output_type": "error",
     "traceback": [
      "\u001b[0;31m---------------------------------------------------------------------------\u001b[0m",
      "\u001b[0;31mNameError\u001b[0m                                 Traceback (most recent call last)",
      "\u001b[0;32m/var/folders/83/2rqfgzgj2lqdhf2s0gryn6sc0000gn/T/ipykernel_5891/2581274937.py\u001b[0m in \u001b[0;36m<module>\u001b[0;34m\u001b[0m\n\u001b[1;32m     12\u001b[0m \u001b[0melement_n\u001b[0m \u001b[0;34m=\u001b[0m \u001b[0;36m2\u001b[0m\u001b[0;34m\u001b[0m\u001b[0;34m\u001b[0m\u001b[0m\n\u001b[1;32m     13\u001b[0m \u001b[0mprogress_flag\u001b[0m \u001b[0;34m=\u001b[0m \u001b[0;36m1\u001b[0m\u001b[0;34m\u001b[0m\u001b[0;34m\u001b[0m\u001b[0m\n\u001b[0;32m---> 14\u001b[0;31m \u001b[0mt_start\u001b[0m \u001b[0;34m=\u001b[0m \u001b[0mtime\u001b[0m\u001b[0;34m.\u001b[0m\u001b[0mtime\u001b[0m\u001b[0;34m(\u001b[0m\u001b[0;34m)\u001b[0m\u001b[0;34m\u001b[0m\u001b[0;34m\u001b[0m\u001b[0m\n\u001b[0m\u001b[1;32m     15\u001b[0m \u001b[0mu_line\u001b[0m \u001b[0;34m=\u001b[0m \u001b[0mstokes_problem\u001b[0m\u001b[0;34m(\u001b[0m\u001b[0mN\u001b[0m\u001b[0;34m,\u001b[0m \u001b[0mL\u001b[0m\u001b[0;34m,\u001b[0m \u001b[0mT\u001b[0m\u001b[0;34m,\u001b[0m \u001b[0mnum_steps\u001b[0m\u001b[0;34m,\u001b[0m \u001b[0mmu\u001b[0m\u001b[0;34m,\u001b[0m \u001b[0mrho\u001b[0m\u001b[0;34m,\u001b[0m \u001b[0mepsilon\u001b[0m\u001b[0;34m,\u001b[0m \u001b[0mtheta\u001b[0m\u001b[0;34m,\u001b[0m \u001b[0mp_flag\u001b[0m\u001b[0;34m,\u001b[0m \u001b[0mf_plot_flag\u001b[0m\u001b[0;34m,\u001b[0m \u001b[0melement_n\u001b[0m\u001b[0;34m,\u001b[0m \u001b[0mprogress_flag\u001b[0m\u001b[0;34m,\u001b[0m \u001b[0mproceents\u001b[0m\u001b[0;34m,\u001b[0m \u001b[0mt_start\u001b[0m\u001b[0;34m)\u001b[0m\u001b[0;34m\u001b[0m\u001b[0;34m\u001b[0m\u001b[0m\n\u001b[1;32m     16\u001b[0m \u001b[0mu_line\u001b[0m \u001b[0;34m=\u001b[0m \u001b[0mnp\u001b[0m\u001b[0;34m.\u001b[0m\u001b[0marray\u001b[0m\u001b[0;34m(\u001b[0m\u001b[0mu_line\u001b[0m\u001b[0;34m)\u001b[0m\u001b[0;34m\u001b[0m\u001b[0;34m\u001b[0m\u001b[0m\n",
      "\u001b[0;31mNameError\u001b[0m: name 'time' is not defined"
     ]
    }
   ],
   "source": [
    "N = 16\n",
    "L = 6\n",
    "T = 2           # final time\n",
    "num_steps = 5000    # number of time steps\n",
    "dt = T/num_steps\n",
    "mu = 0.035             # kinematic viscosity\n",
    "rho = 1.2            # density\n",
    "epsilon = 0\n",
    "theta = 0.1\n",
    "p_flag = 1\n",
    "f_plot_flag = 0\n",
    "element_n = 2\n",
    "progress_flag = 1\n",
    "t_start = time.time()\n",
    "u_line = stokes_problem(N, L, T, num_steps, mu, rho, epsilon, theta, p_flag, f_plot_flag, element_n, progress_flag, proceents, t_start)\n",
    "u_line = np.array(u_line)\n",
    "ani = analytic(mu, rho, T, 2, dt, u_line, progress_flag, proceents)\n",
    "print('time mplsd =', int((time.time()-t_start)))\n",
    "HTML(ani.to_jshtml())"
   ]
  },
  {
   "cell_type": "markdown",
   "metadata": {},
   "source": [
    "assignment 1.4.2"
   ]
  },
  {
   "cell_type": "markdown",
   "metadata": {},
   "source": [
    "assignment 1.4.3"
   ]
  },
  {
   "cell_type": "code",
   "execution_count": 7,
   "metadata": {},
   "outputs": [
    {
     "ename": "NameError",
     "evalue": "name 'time' is not defined",
     "output_type": "error",
     "traceback": [
      "\u001b[0;31m---------------------------------------------------------------------------\u001b[0m",
      "\u001b[0;31mNameError\u001b[0m                                 Traceback (most recent call last)",
      "\u001b[0;32m/var/folders/83/2rqfgzgj2lqdhf2s0gryn6sc0000gn/T/ipykernel_5891/1744953962.py\u001b[0m in \u001b[0;36m<module>\u001b[0;34m\u001b[0m\n\u001b[1;32m     12\u001b[0m \u001b[0melement_n\u001b[0m \u001b[0;34m=\u001b[0m \u001b[0;36m2\u001b[0m\u001b[0;34m\u001b[0m\u001b[0;34m\u001b[0m\u001b[0m\n\u001b[1;32m     13\u001b[0m \u001b[0mprogress_flag\u001b[0m \u001b[0;34m=\u001b[0m \u001b[0;36m1\u001b[0m\u001b[0;34m\u001b[0m\u001b[0;34m\u001b[0m\u001b[0m\n\u001b[0;32m---> 14\u001b[0;31m \u001b[0mt_start\u001b[0m \u001b[0;34m=\u001b[0m \u001b[0mtime\u001b[0m\u001b[0;34m.\u001b[0m\u001b[0mtime\u001b[0m\u001b[0;34m(\u001b[0m\u001b[0;34m)\u001b[0m\u001b[0;34m\u001b[0m\u001b[0;34m\u001b[0m\u001b[0m\n\u001b[0m\u001b[1;32m     15\u001b[0m \u001b[0mu_line\u001b[0m \u001b[0;34m=\u001b[0m \u001b[0mstokes_problem\u001b[0m\u001b[0;34m(\u001b[0m\u001b[0mN\u001b[0m\u001b[0;34m,\u001b[0m \u001b[0mL\u001b[0m\u001b[0;34m,\u001b[0m \u001b[0mT\u001b[0m\u001b[0;34m,\u001b[0m \u001b[0mnum_steps\u001b[0m\u001b[0;34m,\u001b[0m \u001b[0mmu\u001b[0m\u001b[0;34m,\u001b[0m \u001b[0mrho\u001b[0m\u001b[0;34m,\u001b[0m \u001b[0mepsilon\u001b[0m\u001b[0;34m,\u001b[0m \u001b[0mtheta\u001b[0m\u001b[0;34m,\u001b[0m \u001b[0mp_flag\u001b[0m\u001b[0;34m,\u001b[0m \u001b[0mf_plot_flag\u001b[0m\u001b[0;34m,\u001b[0m \u001b[0melement_n\u001b[0m\u001b[0;34m,\u001b[0m \u001b[0mprogress_flag\u001b[0m\u001b[0;34m,\u001b[0m \u001b[0mproceents\u001b[0m\u001b[0;34m,\u001b[0m \u001b[0mt_start\u001b[0m\u001b[0;34m)\u001b[0m\u001b[0;34m\u001b[0m\u001b[0;34m\u001b[0m\u001b[0m\n\u001b[1;32m     16\u001b[0m \u001b[0mu_line\u001b[0m \u001b[0;34m=\u001b[0m \u001b[0mnp\u001b[0m\u001b[0;34m.\u001b[0m\u001b[0marray\u001b[0m\u001b[0;34m(\u001b[0m\u001b[0mu_line\u001b[0m\u001b[0;34m)\u001b[0m\u001b[0;34m\u001b[0m\u001b[0;34m\u001b[0m\u001b[0m\n",
      "\u001b[0;31mNameError\u001b[0m: name 'time' is not defined"
     ]
    }
   ],
   "source": [
    "N = 16\n",
    "L = 6\n",
    "T = 2           # final time\n",
    "num_steps = 500    # number of time steps\n",
    "dt = T/num_steps\n",
    "mu = 0.035             # kinematic viscosity\n",
    "rho = 1.2            # density\n",
    "epsilon = 0.1\n",
    "theta = 0.5\n",
    "p_flag = 1\n",
    "f_plot_flag = 0\n",
    "element_n = 2\n",
    "progress_flag = 1\n",
    "t_start = time.time()\n",
    "u_line = stokes_problem(N, L, T, num_steps, mu, rho, epsilon, theta, p_flag, f_plot_flag, element_n, progress_flag, proceents, t_start)\n",
    "u_line = np.array(u_line)\n",
    "ani = analytic(mu, rho, T, 2, dt, u_line, progress_flag, proceents)\n",
    "print('time mplsd =', int((time.time()-t_start)))\n",
    "HTML(ani.to_jshtml())"
   ]
  },
  {
   "cell_type": "code",
   "execution_count": 8,
   "metadata": {},
   "outputs": [
    {
     "ename": "NameError",
     "evalue": "name 'time' is not defined",
     "output_type": "error",
     "traceback": [
      "\u001b[0;31m---------------------------------------------------------------------------\u001b[0m",
      "\u001b[0;31mNameError\u001b[0m                                 Traceback (most recent call last)",
      "\u001b[0;32m/var/folders/83/2rqfgzgj2lqdhf2s0gryn6sc0000gn/T/ipykernel_5891/3511278929.py\u001b[0m in \u001b[0;36m<module>\u001b[0;34m\u001b[0m\n\u001b[1;32m     12\u001b[0m \u001b[0melement_n\u001b[0m \u001b[0;34m=\u001b[0m \u001b[0;36m2\u001b[0m\u001b[0;34m\u001b[0m\u001b[0;34m\u001b[0m\u001b[0m\n\u001b[1;32m     13\u001b[0m \u001b[0mprogress_flag\u001b[0m \u001b[0;34m=\u001b[0m \u001b[0;36m0\u001b[0m\u001b[0;34m\u001b[0m\u001b[0;34m\u001b[0m\u001b[0m\n\u001b[0;32m---> 14\u001b[0;31m \u001b[0mt_start\u001b[0m \u001b[0;34m=\u001b[0m \u001b[0mtime\u001b[0m\u001b[0;34m.\u001b[0m\u001b[0mtime\u001b[0m\u001b[0;34m(\u001b[0m\u001b[0;34m)\u001b[0m\u001b[0;34m\u001b[0m\u001b[0;34m\u001b[0m\u001b[0m\n\u001b[0m\u001b[1;32m     15\u001b[0m \u001b[0mu_line\u001b[0m \u001b[0;34m=\u001b[0m \u001b[0mstokes_problem\u001b[0m\u001b[0;34m(\u001b[0m\u001b[0mN\u001b[0m\u001b[0;34m,\u001b[0m \u001b[0mL\u001b[0m\u001b[0;34m,\u001b[0m \u001b[0mT\u001b[0m\u001b[0;34m,\u001b[0m \u001b[0mnum_steps\u001b[0m\u001b[0;34m,\u001b[0m \u001b[0mmu\u001b[0m\u001b[0;34m,\u001b[0m \u001b[0mrho\u001b[0m\u001b[0;34m,\u001b[0m \u001b[0mepsilon\u001b[0m\u001b[0;34m,\u001b[0m \u001b[0mtheta\u001b[0m\u001b[0;34m,\u001b[0m \u001b[0mp_flag\u001b[0m\u001b[0;34m,\u001b[0m \u001b[0mf_plot_flag\u001b[0m\u001b[0;34m,\u001b[0m \u001b[0melement_n\u001b[0m\u001b[0;34m,\u001b[0m \u001b[0mprogress_flag\u001b[0m\u001b[0;34m,\u001b[0m \u001b[0mproceents\u001b[0m\u001b[0;34m,\u001b[0m \u001b[0mt_start\u001b[0m\u001b[0;34m)\u001b[0m\u001b[0;34m\u001b[0m\u001b[0;34m\u001b[0m\u001b[0m\n\u001b[1;32m     16\u001b[0m \u001b[0mu_line\u001b[0m \u001b[0;34m=\u001b[0m \u001b[0mnp\u001b[0m\u001b[0;34m.\u001b[0m\u001b[0marray\u001b[0m\u001b[0;34m(\u001b[0m\u001b[0mu_line\u001b[0m\u001b[0;34m)\u001b[0m\u001b[0;34m\u001b[0m\u001b[0;34m\u001b[0m\u001b[0m\n",
      "\u001b[0;31mNameError\u001b[0m: name 'time' is not defined"
     ]
    }
   ],
   "source": [
    "N = 16\n",
    "L = 6\n",
    "T = 2           # final time\n",
    "num_steps = 1000    # number of time steps\n",
    "dt = T/num_steps\n",
    "mu = 0.035             # kinematic viscosity\n",
    "rho = 1.2            # density\n",
    "epsilon = 5\n",
    "theta = 0.5\n",
    "p_flag = 1\n",
    "f_plot_flag = 0\n",
    "element_n = 2\n",
    "progress_flag = 0\n",
    "t_start = time.time()\n",
    "u_line = stokes_problem(N, L, T, num_steps, mu, rho, epsilon, theta, p_flag, f_plot_flag, element_n, progress_flag, proceents, t_start)\n",
    "u_line = np.array(u_line)\n",
    "ani = analytic(mu, rho, T, 2, dt, u_line, progress_flag, proceents)\n",
    "print('time mplsd =', int((time.time()-t_start)))\n",
    "HTML(ani.to_jshtml())"
   ]
  },
  {
   "cell_type": "code",
   "execution_count": 9,
   "metadata": {},
   "outputs": [
    {
     "ename": "NameError",
     "evalue": "name 'time' is not defined",
     "output_type": "error",
     "traceback": [
      "\u001b[0;31m---------------------------------------------------------------------------\u001b[0m",
      "\u001b[0;31mNameError\u001b[0m                                 Traceback (most recent call last)",
      "\u001b[0;32m/var/folders/83/2rqfgzgj2lqdhf2s0gryn6sc0000gn/T/ipykernel_5891/1105085886.py\u001b[0m in \u001b[0;36m<module>\u001b[0;34m\u001b[0m\n\u001b[0;32m----> 1\u001b[0;31m \u001b[0mt_start\u001b[0m \u001b[0;34m=\u001b[0m \u001b[0mtime\u001b[0m\u001b[0;34m.\u001b[0m\u001b[0mtime\u001b[0m\u001b[0;34m(\u001b[0m\u001b[0;34m)\u001b[0m\u001b[0;34m\u001b[0m\u001b[0;34m\u001b[0m\u001b[0m\n\u001b[0m\u001b[1;32m      2\u001b[0m \u001b[0mN\u001b[0m \u001b[0;34m=\u001b[0m \u001b[0;36m16\u001b[0m\u001b[0;34m\u001b[0m\u001b[0;34m\u001b[0m\u001b[0m\n\u001b[1;32m      3\u001b[0m \u001b[0mL\u001b[0m \u001b[0;34m=\u001b[0m \u001b[0;36m6\u001b[0m\u001b[0;34m\u001b[0m\u001b[0;34m\u001b[0m\u001b[0m\n\u001b[1;32m      4\u001b[0m \u001b[0mT\u001b[0m \u001b[0;34m=\u001b[0m \u001b[0;36m100\u001b[0m           \u001b[0;31m# final time\u001b[0m\u001b[0;34m\u001b[0m\u001b[0;34m\u001b[0m\u001b[0m\n\u001b[1;32m      5\u001b[0m \u001b[0mnum_steps\u001b[0m \u001b[0;34m=\u001b[0m \u001b[0;36m1000\u001b[0m    \u001b[0;31m# number of time steps\u001b[0m\u001b[0;34m\u001b[0m\u001b[0;34m\u001b[0m\u001b[0m\n",
      "\u001b[0;31mNameError\u001b[0m: name 'time' is not defined"
     ]
    }
   ],
   "source": [
    "t_start = time.time()\n",
    "N = 16\n",
    "L = 6\n",
    "T = 100           # final time\n",
    "num_steps = 1000    # number of time steps\n",
    "dt = T/num_steps\n",
    "mu = 2            # kinematic viscosity\n",
    "rho = 1.2            # density\n",
    "epsilon = 1\n",
    "theta = 0.5\n",
    "p_flag = 0\n",
    "f_plot_flag = 1\n",
    "element_n = 1\n",
    "progress_flag = 1\n",
    "proceents = 10\n",
    "u_line = stokes_problem(N, L, T, num_steps, mu, rho, epsilon, theta, p_flag, f_plot_flag, element_n, progress_flag, proceents, t_start)\n",
    "u_line = np.array(u_line)\n",
    "\n",
    "ani = analytic(mu, rho, T, 2, dt, u_line, progress_flag, proceents)\n",
    "print('time mplsd =', int((time.time()-t_start)))\n",
    "HTML(ani.to_jshtml())"
   ]
  },
  {
   "cell_type": "code",
   "execution_count": null,
   "metadata": {},
   "outputs": [],
   "source": []
  }
 ],
 "metadata": {
  "kernelspec": {
   "display_name": "Python 3 (ipykernel)",
   "language": "python",
   "name": "python3"
  },
  "language_info": {
   "codemirror_mode": {
    "name": "ipython",
    "version": 3
   },
   "file_extension": ".py",
   "mimetype": "text/x-python",
   "name": "python",
   "nbconvert_exporter": "python",
   "pygments_lexer": "ipython3",
   "version": "3.9.7"
  }
 },
 "nbformat": 4,
 "nbformat_minor": 4
}
