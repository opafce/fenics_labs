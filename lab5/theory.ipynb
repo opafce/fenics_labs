{
 "cells": [
  {
   "cell_type": "markdown",
   "metadata": {},
   "source": [
    "$$\n",
    "\\begin{array}{l}\n",
    "\\quad \\rho \\frac{\\partial u}{\\partial t}-\\mu \\Delta u+\\nabla p=0 \\\\\n",
    "\\frac{\\partial u}{\\partial t}=\\frac{\\mu \\Delta u-\\nabla p}{\\rho} \\\\\n",
    "\\frac{u^{k+1}-u^{k}}{\\partial t}=(1-\\theta)\\left.\\left(\\frac{\\mu \\Delta u-\\nabla p}{\\rho}\\right)\\right|_{k=0}+\\left.\\theta\\left(\\frac{\\mu \\Delta u-\\nabla p}{\\rho}\\right)\\right|_{k+1}\\\\\n",
    "u^{k+1}=(1-\\theta)\\left.\\left(\\frac{\\mu \\Delta u-\\nabla p}{\\rho}\\right)\\right|_{k=0}{\\partial t}+\\left.\\theta\\left(\\frac{\\mu \\Delta u-\\nabla p}{\\rho}\\right)\\right|_{k+1}{\\partial t} + u^{k}\n",
    "\\end{array}\n",
    "$$"
   ]
  },
  {
   "cell_type": "markdown",
   "metadata": {},
   "source": [
    "$$\n",
    "u^{k+1} - \\left.\\theta\\left(\\frac{\\mu \\Delta u-\\nabla p}{\\rho}\\right)\\right|_{k+1}{\\partial t}=(1-\\theta)\\left.\\left(\\frac{\\mu \\Delta u-\\nabla p}{\\rho}\\right)\\right|_{k=0}{\\partial t} + u^{k}\n",
    "$$"
   ]
  },
  {
   "cell_type": "code",
   "execution_count": null,
   "metadata": {},
   "outputs": [],
   "source": []
  }
 ],
 "metadata": {
  "kernelspec": {
   "display_name": "Python 3",
   "language": "python",
   "name": "python3"
  },
  "language_info": {
   "codemirror_mode": {
    "name": "ipython",
    "version": 3
   },
   "file_extension": ".py",
   "mimetype": "text/x-python",
   "name": "python",
   "nbconvert_exporter": "python",
   "pygments_lexer": "ipython3",
   "version": "3.6.9"
  }
 },
 "nbformat": 4,
 "nbformat_minor": 4
}
