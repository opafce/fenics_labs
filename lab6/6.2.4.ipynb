{
 "cells": [
  {
   "cell_type": "code",
   "execution_count": 1,
   "metadata": {},
   "outputs": [],
   "source": [
    "from dolfin import *\n",
    "import mshr\n",
    "import sympy as sym\n",
    "import numpy as np\n",
    "import matplotlib.pyplot as plt\n",
    "import matplotlib.animation\n",
    "from IPython.display import HTML \n",
    "import time"
   ]
  },
  {
   "cell_type": "code",
   "execution_count": 2,
   "metadata": {},
   "outputs": [],
   "source": [
    "def stokes_problem(T, num_steps, mu, rho, epsilon, theta, Re, R, element_n, plot_f, progress_f, proceents, t_start, mesh_f, conv_f, bcflow_f, temam_f, supg_f, combi_f, folder_name):     \n",
    "    dt = T / num_steps # time step size\n",
    "    t = dt\n",
    "    mesh_f_s = []\n",
    "    \n",
    "    \n",
    "    \n",
    "    #input mesh choose\n",
    "    if mesh_f == 0:\n",
    "        mesh = Mesh('stenosis_f0.6.xml')\n",
    "        boundary = MeshFunction('size_t', mesh,'stenosis_f0.6_facet_region.xml')\n",
    "        mesh_f_s = 'R' #regular\n",
    "    else:\n",
    "        mesh = Mesh('stenosis_f0.6_fine.xml')\n",
    "        boundary = MeshFunction('size_t', mesh,'stenosis_f0.6_fine_facet_region.xml')\n",
    "        mesh_f_s = 'F' #fine\n",
    "    h = CellDiameter(mesh)\n",
    "    \n",
    "    \n",
    "    \n",
    "    # Build function space\n",
    "    P2 = VectorElement(\"P\", mesh.ufl_cell(), element_n)\n",
    "    P1 = FiniteElement(\"P\", mesh.ufl_cell(), 1)\n",
    "    TH = P2 * P1\n",
    "    W = FunctionSpace(mesh, TH)\n",
    "    u_par = Constant((0,0))\n",
    "    \n",
    "    \n",
    "    \n",
    "    #boundary\n",
    "    ds = Measure('ds', domain=mesh, subdomain_data=boundary)\n",
    "    n_v = FacetNormal(mesh)\n",
    "    boundary_conditions = {1: {'Dirichlet': u_par},   #inflow\n",
    "                           #2: {'Dirichlet': Constant(0)},   #outflow\n",
    "                           #3: {'Dirichlet': Constant(0)},   #symmetry\n",
    "                           4: {'Dirichlet': Constant((0.0, 0.0))}}   #no-slip\n",
    "        # Collect Dirichlet conditions\n",
    "    bc = DirichletBC(W.sub(0), boundary_conditions[1]['Dirichlet'], boundary, 1)\n",
    "    \n",
    "    \n",
    "\n",
    "    # Define variational problem\n",
    "    (u, p) = TrialFunctions(W)\n",
    "    (v, q) = TestFunctions(W)\n",
    "    u0 = project(Constant((0, 0)), VectorFunctionSpace(mesh, \"P\", 4))\n",
    "    p0 = project(Constant(0), FunctionSpace(mesh, \"P\", 4))\n",
    "    \n",
    "    \n",
    "    \n",
    "    #f constant\n",
    "    f = Constant((0, 0))\n",
    "    f0 = Constant((0, 0))\n",
    "\n",
    "    \n",
    "    \n",
    "    #file work\n",
    "    folder =  folder_name + '/cn_' +str(conv_f)+ '-bc_' +str(bcflow_f)+ '-te_' +str(temam_f)+ '-su_' +str(supg_f)+ '-co_' +str(combi_f) + '_'+mesh_f_s+ '-dt_' + str(dt) + '-e_' + str(epsilon) + '-th_' + str(theta)  \n",
    "    u_file = XDMFFile(folder + '/u.xdmf')\n",
    "    p_file = XDMFFile(folder + '/p.xdmf')\n",
    "    u_file.parameters['rewrite_function_mesh'] = False\n",
    "    p_file.parameters['rewrite_function_mesh'] = False\n",
    "    u_file.parameters[\"flush_output\"] = True\n",
    "    p_file.parameters[\"flush_output\"] = True\n",
    "    \n",
    "    \n",
    "    \n",
    "    # Time-stepping\n",
    "    proceent = 0\n",
    "    t_arr = np.zeros(num_steps)\n",
    "    \n",
    "    \n",
    "    \n",
    "    #constant\n",
    "    f = Constant((0, 0))\n",
    "    f0 = Constant((0, 0))\n",
    "    \n",
    "    \n",
    "    \n",
    "    x, y = sym.symbols('x[0], x[1]')  \n",
    "    u_par = (1.5 *Re *mu/2/rho/R)*(1 - (y/R)**2)\n",
    "    u_D = sym.simplify(u_par)\n",
    "    u_par_c = Expression((sym.printing.ccode(u_D), 0), degree=5)\n",
    "    \n",
    "    for n in range(num_steps):\n",
    "        \n",
    "        \n",
    "        #progress\n",
    "        if progress_f == 1:\n",
    "            if int(n/(num_steps-1)*100) >= proceent:\n",
    "                print(\"% =\", int(n/(num_steps-1) * 100), ', time mplsd =', int((time.time()-t_start)))\n",
    "                proceent+=proceents\n",
    "        t_arr[n] = t\n",
    "        \n",
    "        \n",
    "        #calculate u_bulk\n",
    "        u_par = u_par_c*np.sin(np.pi*t/T)\n",
    "        u_par = project(u_par, VectorFunctionSpace(mesh, \"P\", 4))\n",
    "        bc_4 = DirichletBC(W.sub(0), u_par, boundary, 4)\n",
    "        \n",
    "        \n",
    "        \n",
    "        #boundary calculation\n",
    "        bcs = []\n",
    "        bcs.append(bc)\n",
    "        bcs.append(bc_4)\n",
    "        bc_3 = - inner(p0*n_v, v)*ds\n",
    "        \n",
    "        \n",
    "        \n",
    "        #Form parts calculation \n",
    "        a1 = (mu*inner(grad(u0), grad(v)) + div(v)*p0 + mu*q*div(u0))*dx(domain = mesh)\n",
    "        L1 = inner(f0, v)*dx(domain = mesh)\n",
    "        a2 = (mu*inner(grad(u), grad(v)) + div(v)*p + mu*q*div(u))*dx(domain = mesh) \n",
    "        L2 = inner(f, v)*dx(domain = mesh)\n",
    "        \n",
    "        \n",
    "        \n",
    "        \n",
    "        #correction terms\n",
    "        correction_t_r = temam_t_r = epsilon_t_r = conv_t_r = bcflow_t_r = supg_t_r = combi_t_r = temam_t_l = epsilon_t_l = conv_t_l = bcflow_t_l = supg_t_l = combi_t_l = 0\n",
    "        \n",
    "        \n",
    "        if bcflow_f == 1:\n",
    "            ala = inner(u0,n_v)\n",
    "            #bcflow_t = bcflow_f * rho/4 * abs(ala - abs(ala)) * inner((theta*u - (1-theta)*u0), v) * dx(domain = mesh) \n",
    "            bcflow_t_l = bcflow_f * rho/4 * abs(ala - abs(ala)) * inner((theta*u), v) * ds\n",
    "            bcflow_t_r = bcflow_f * rho/4 * abs(ala - abs(ala)) * inner(((1-theta)*u0), v) * ds\n",
    "        else:\n",
    "            bcflow_t_l = bcflow_t_r = 0\n",
    "        \n",
    "        \n",
    "        \n",
    "        if temam_f == 1:\n",
    "            #temam_t = temam_f * rho/2 * inner(dot(grad(u0),(theta*u - (1-theta)*u0)), v)*dx(domain = mesh) \n",
    "            temam_t_l = temam_f * rho/2 * inner(dot(grad(u0),(theta*u)), v)*dx(domain = mesh)\n",
    "            temam_t_r = temam_f * rho/2 * inner(dot(grad(u0),((1-theta)*u0)), v)*dx(domain = mesh)                                   \n",
    "        else:\n",
    "            temam_f_t_l = temam_f_t_r = 0\n",
    "        \n",
    "        \n",
    "        \n",
    "        if epsilon == 1:\n",
    "            #epsilon_t =  epsilon *h*h/mu*inner(grad(q), grad((theta*p - (1-theta)*p0)))*dx(domain = mesh)\n",
    "            epsilon_t_l =  epsilon *h*h/mu*inner(grad(q), grad(theta*p))*dx(domain = mesh) \n",
    "            epsilon_t_r =  epsilon *h*h/mu*inner(grad(q), (1-theta) * grad(p0))*dx(domain = mesh)\n",
    "        else:\n",
    "            epsilon_t_l = epsilon_t_r = 0\n",
    "        \n",
    "        \n",
    "        \n",
    "        if conv_f == 1:                              \n",
    "            #conv_t =  conv_f * rho*inner(dot(u0, nabla_grad((theta*u - (1-theta)*u0))), v) * dx(domain = mesh) \n",
    "            conv_t_l =  conv_f * rho*inner(dot(u0, nabla_grad((theta*u))), v) * dx(domain = mesh)\n",
    "            conv_t_r =  conv_f * rho*inner(dot(u0, (1-theta)*nabla_grad((u0))), v) * dx(domain = mesh)                                    \n",
    "        else:\n",
    "            conv_t_l = conv_t_r = 0\n",
    "        \n",
    "        \n",
    "        \n",
    "        if supg_f == 1:                              \n",
    "            supg_t_ =  supg_f * (4/dt/dt + 4*dot(u0,u0)/h/h + (12*mu/rho/h/h)**2)**(-0.5)\n",
    "            #supg_t =  supg_t_ * rho * inner(dot(u0, nabla_grad((theta*u - (1-theta)*u0))), rho * dot(u0, nabla_grad(v))) * dx(domain = mesh)\n",
    "            supg_t_l =  supg_t_ * rho * inner(dot(u0, nabla_grad((theta*u))), rho * dot(u0, nabla_grad(v))) * dx(domain = mesh)                                     \n",
    "            supg_t_r =  supg_t_ * rho * inner(dot(u0, (1-theta)*nabla_grad((u0))), rho * dot(u0, nabla_grad(v))) * dx(domain = mesh)                                                                    \n",
    "        else:\n",
    "            supg_t_l = supg_t_r = 0\n",
    "        \n",
    "        \n",
    "        \n",
    "        if combi_f == 1:\n",
    "            supg_t_ =  supg_f * (4/dt/dt + 4*dot(u0,u0)/h/h + (12*mu/rho/h/h)**2)**(-0.5)\n",
    "            #combi_t =  combi_f * supg_t_ * inner((rho * dot(u0, nabla_grad((theta*u - (1-theta)*u0))) + grad((theta*p - (1-theta)*p0))),(rho * dot(u0, nabla_grad(v)) - grad(q))) * dx(domain = mesh)  \n",
    "            combi_t_l =  combi_f * supg_t_ * inner((rho * dot(u0, nabla_grad((theta*u))) + grad((theta*p))),(rho * dot(u0, nabla_grad(v)) - grad(q))) * dx(domain = mesh) \n",
    "            combi_t_r =  combi_f * supg_t_ * inner((rho * dot(u0, (1-theta)*nabla_grad((u0))) + (1-theta)*grad((p0))),(rho * dot(u0, nabla_grad(v)) - grad(q))) * dx(domain = mesh) \n",
    "        else:\n",
    "            combi_t_l = combi_t_r = 0\n",
    "        \n",
    "        \n",
    "                                            \n",
    "        #Form calculation \n",
    "        correction_t_r = temam_t_r + epsilon_t_r + conv_t_r + bcflow_t_r + supg_t_r + combi_t_r +bc_3\n",
    "        correction_t_l = temam_t_l + epsilon_t_l + conv_t_l + bcflow_t_l + supg_t_l + combi_t_l\n",
    "        \n",
    "        \n",
    "        a = inner(u,v) * dx + (theta) * (a2) + correction_t_l\n",
    "        L =  (1 - theta) * (a1 - L1) - (theta) * L2 - inner(u0,v)*dx + correction_t_r\n",
    "        U = Function(W)\n",
    "        solve(a == L, U, bcs)\n",
    "        u0, p0 = U.split()\n",
    "        \n",
    "        \n",
    "        \n",
    "        #file work\n",
    "        u0.rename(\"v0\", \"velocity\")\n",
    "        p0.rename(\"p0\", \"pressure\")\n",
    "        u_file.write(u0, t)\n",
    "        p_file.write(p0, t)\n",
    "        \n",
    "        \n",
    "        \n",
    "        #time step apply\n",
    "        t += dt\n",
    "    \n",
    "    \n",
    "    \n",
    "    #file close\n",
    "    u_file.close()\n",
    "    p_file.close()\n",
    "    if plot_f == 1:\n",
    "        plt.plot(t_arr,vc_arr)"
   ]
  },
  {
   "cell_type": "markdown",
   "metadata": {},
   "source": [
    "2.4\n",
    "\n",
    "Solve now the Navier-Stokes problem using $\\mathbb{P}_{1} / \\mathbb{P}_{1}$ with a standard pressure stabilization\n",
    "$$\n",
    "\\varepsilon \\frac{h^{2}}{\\mu} \\int_{\\Omega} \\nabla p^{k+\\theta} \\cdot \\nabla q\n",
    "$$\n",
    "with $h$ the cell diameter $(\\mathrm{h}=$ CellDiameter (mesh) $)$. Employ the backflow and Temam stabilization. Perform simulations using $\\varepsilon=0.01$ and $\\varepsilon=0.0001$ for $R e=5000$ for the fine mesh. As before, $\\theta=1, \\tau=0.01$."
   ]
  },
  {
   "cell_type": "markdown",
   "metadata": {},
   "source": [
    "2.4.1. Assignment (0.5 points) Prove that the fully discrete solution is asymptotically stable for $\\theta \\geq 1 / 2$"
   ]
  },
  {
   "cell_type": "markdown",
   "metadata": {},
   "source": [
    "We will start with the form obtained in the 6.2.1 part. \n",
    "\n",
    "$\\rho \\int_{\\Omega} \\dot{\\vec{u_{n}}} \\cdot \\vec{u_{n}}+\\rho \\int_{\\Omega}(\\vec{u_{n}} \\cdot \\nabla) \\vec{u_{n}} \\cdot \\vec{u_{n}}-\\int_{\\Omega} \\mu_{n} \\Delta \\vec{u_{n}} \\cdot \\vec{u_{n}}$\n",
    "$+\\int_{\\Omega} \\nabla p \\cdot \\vec{u_{n}}=\\int_{\\Omega} \\vec{f} \\cdot \\vec{u_{n}}$\n",
    "\n",
    "and change it to add the $\\theta$ - scheme with semi-implict stabilization of $\\vec{u_n^c} = \\vec{u^k}$"
   ]
  },
  {
   "cell_type": "markdown",
   "metadata": {},
   "source": [
    "$\\rho \\int_{\\Omega} \\frac{\\vec{u}_{n}^{k+1}-\\int_{\\Omega}\\vec{u}_{n}^{k}}{\\tau} \\cdot \\vec{v}_{n}+\\int_{\\Omega}\\frac{\\rho}{2}\\left(\\nabla \\cdot \\vec{u}_{n}^{k}\\right) \\vec{u}_{n}^{k+\\theta} \\cdot \\vec{v}_{n}+\\int_{\\Omega}\\mu \\nabla \\vec{u}_{n}^{k+\\theta} \\cdot \\vec{v}_n -\\int_{\\Omega}p_{n}^{k+\\theta} \\nabla \\cdot \\vec{v}_{n}+\\int_{\\Omega}g_{n} \\nabla \\cdot \\vec{u}_{n}^{k+\\theta}=\\int_{\\Omega} \\vec{f}^{k + \\theta} \\cdot v_{n}$"
   ]
  },
  {
   "cell_type": "markdown",
   "metadata": {},
   "source": [
    "Then we add backflow stabilization \n",
    "$\n",
    "C_{b a c k} \\int_{\\Gamma_{N}}\\left| \\vec{u}^{k} \\cdot \\vec{n}\\right|_{-} \\vec{u}^{k+\\theta} \\cdot \\vec{v}\n",
    "$\n",
    "\n",
    "with\n",
    "$\n",
    "|c|_{-}:=\\frac{1}{2} \\operatorname{abs}(c-\\operatorname{abs}(c))\n",
    "$"
   ]
  },
  {
   "cell_type": "markdown",
   "metadata": {},
   "source": [
    "add Teman stabilization \n",
    "\n",
    "$\\frac{\\rho}{2} \\int_{\\Omega}\\left(\\nabla \\cdot \\vec{u}^{k}\\right) \\vec{u}^{k+\\theta} \\cdot \\vec{v}$\n",
    "\n"
   ]
  },
  {
   "cell_type": "markdown",
   "metadata": {},
   "source": [
    "And finally add the pressure stabilization \n",
    "\n",
    "$\\varepsilon \\frac{h^{2}}{\\mu} \\int_{\\Omega} \\nabla p^{k+\\theta} \\cdot \\nabla q$"
   ]
  },
  {
   "cell_type": "markdown",
   "metadata": {},
   "source": [
    "And we get this weak form\n",
    "$\\rho \\int_{\\Omega} \\frac{\\vec{u}_{n}^{k+1}-\\vec{u}_{n}^{k}}{\\tau} \\cdot \\vec{v}_{n} + \\int_{\\Omega}\\frac{\\rho}{2}\\left(\\nabla \\cdot \\vec{u}_{n}^{k}\\right) \\vec{u}_{n}^{k+\\theta} \\cdot \\vec{v}_{n}+\\int_{\\Omega}\\mu \\nabla \\vec{u}_{n}^{k+\\theta} \\cdot \\vec{v}_n -\\int_{\\Omega}p_{n}^{k+\\theta} \\nabla \\cdot \\vec{v}_{n}+\\int_{\\Omega}g_{n} \\nabla \\cdot \\vec{u}_{n}^{k+\\theta} - \\frac{\\rho}{2} \\int_{\\Omega}\\left(\\nabla \\cdot \\vec{u}^{k}\\right) \\vec{u}^{k+\\theta} \\cdot \\vec{v}  + \\varepsilon \\frac{h^{2}}{\\mu} \\int_{\\Omega} \\nabla p^{k+\\theta} \\cdot \\nabla q + C_{b a c k} \\int_{\\Gamma_{N}}\\left| \\vec{u}^{k} \\cdot \\vec{n}\\right|_{-} \\vec{u}^{k+\\theta} \\cdot \\vec{v} =\\int_{\\Omega} \\vec{f}^{k + \\theta} \\cdot v_{n}$\n"
   ]
  },
  {
   "cell_type": "markdown",
   "metadata": {},
   "source": [
    "Algebra skills implemented we get rid of this term $\\int_{\\Omega}\\frac{\\rho}{2}\\left(\\nabla \\cdot \\vec{u}_{n}^{k}\\right) \\vec{u}_{n}^{k+\\theta} \\cdot \\vec{v}_{n}$\n",
    "\n",
    "\n",
    "$\\rho \\int_{\\Omega} \\frac{\\vec{u}_{n}^{k+1}-\\vec{u}_{n}^{k}}{\\tau} \\cdot \\vec{v}_{n} +\\int_{\\Omega}\\mu \\nabla \\vec{u}_{n}^{k+\\theta} \\cdot \\vec{v}_n -\\int_{\\Omega}p_{n}^{k+\\theta} \\nabla \\cdot \\vec{v}_{n}+\\int_{\\Omega}g_{n} \\nabla \\cdot \\vec{u}_{n}^{k+\\theta}  + \\varepsilon \\frac{h^{2}}{\\mu} \\int_{\\Omega} \\nabla p^{k+\\theta} \\cdot \\nabla q + C_{b a c k} \\int_{\\Gamma_{N}}\\left| \\vec{u}^{k} \\cdot \\vec{n}\\right|_{-} \\vec{u}^{k+\\theta} \\cdot \\vec{v} =\\int_{\\Omega} \\vec{f}^{k + \\theta} \\cdot v_{n}$\n"
   ]
  },
  {
   "cell_type": "markdown",
   "metadata": {},
   "source": [
    "Rewrite the equation\n",
    "\n",
    "$\\rho \\int_{\\Omega} \\frac{\\vec{u}_{n}^{k+1}-\\vec{u}_{n}^{k}}{\\tau} \\cdot \\vec{v}_{n} = -\\int_{\\Omega}\\mu \\nabla \\vec{u}_{n}^{k+\\theta} \\cdot \\vec{v}_n +\\int_{\\Omega}p_{n}^{k+\\theta} \\nabla \\cdot \\vec{v}_{n}-\\int_{\\Omega}g_{n} \\nabla \\cdot \\vec{u}_{n}^{k+\\theta}  - \\varepsilon \\frac{h^{2}}{\\mu} \\int_{\\Omega} \\nabla p^{k+\\theta} \\cdot \\nabla q - C_{b a c k} \\int_{\\Gamma_{N}}\\left| \\vec{u}^{k} \\cdot \\vec{n}\\right|_{-} \\vec{u}^{k+\\theta} \\cdot \\vec{v} + \\int_{\\Omega} \\vec{f}^{k + \\theta} \\cdot v_{n}$"
   ]
  },
  {
   "cell_type": "markdown",
   "metadata": {},
   "source": [
    "so when we deal with energy\n",
    "$-\\frac{\\rho}{2 \\tau} \\int_{\\Omega}\\left\\|\\vec{u}_{h}^{k}\\right\\|^{2}+\\frac{\\rho}{2 \\tau} \\int_{\\Omega}\\left\\|\\vec{u}_{n}^{k+1}\\right\\|^{2}= \\left(\\theta-\\frac{1}{2}\\right) \\rho \\int_{\\Omega}\\left\\|\\vec{u}_{n}^{k+1}-\\vec{u}_{u}^{k}\\right\\|^{2} + \\mu \\int_{\\Omega} \\left\\|\\nabla u_{n}^{k+\\theta} \\right\\|^{2}$"
   ]
  },
  {
   "cell_type": "markdown",
   "metadata": {},
   "source": [
    "and all the other terms are negative\n",
    "so we have unconditional stability for $\\theta \\geq \\frac{1}{2}$ as the energy decreases with the bigger timestep"
   ]
  },
  {
   "cell_type": "markdown",
   "metadata": {},
   "source": [
    "2.4.2. Assignment (1 point) Compare the numerical results for both values of $\\varepsilon$ to the results for $\\mathbb{P}_{2} / \\mathbb{P}_{1}$ (without the stabilization term (4)). Comment on the differences and similarities between all three cases."
   ]
  },
  {
   "cell_type": "markdown",
   "metadata": {},
   "source": [
    "First coarse mesh"
   ]
  },
  {
   "cell_type": "markdown",
   "metadata": {},
   "source": [
    "Re = 5000 no stabilization term"
   ]
  },
  {
   "cell_type": "code",
   "execution_count": 4,
   "metadata": {},
   "outputs": [
    {
     "name": "stdout",
     "output_type": "stream",
     "text": [
      "% = 0 , time mplsd = 2\n",
      "% = 10 , time mplsd = 40\n",
      "% = 20 , time mplsd = 79\n",
      "% = 30 , time mplsd = 117\n",
      "% = 40 , time mplsd = 156\n",
      "% = 50 , time mplsd = 195\n",
      "% = 60 , time mplsd = 235\n",
      "% = 70 , time mplsd = 274\n",
      "% = 80 , time mplsd = 314\n",
      "% = 90 , time mplsd = 354\n",
      "% = 100 , time mplsd = 393\n"
     ]
    }
   ],
   "source": [
    "folder_name = '6.2.4/6.2.4.2/coarse'\n",
    "\n",
    "t_start = time.time()\n",
    "T = 4.           # final time\n",
    "num_steps = 400    # number of time steps\n",
    "dt = T/num_steps\n",
    "mu = 0.035            # kinematic viscosity\n",
    "rho = 1.2            # density\n",
    "epsilon = 0\n",
    "theta = 1\n",
    "R = 1\n",
    "element_n = 2 #P? element to solve\n",
    "\n",
    "\n",
    "progress_f = 1\n",
    "proceents = 10\n",
    "\n",
    "\n",
    "mesh_f= 0 # 0 for coarse 1 for fine\n",
    "conv_f = 1 \n",
    "bcflow_f = 1\n",
    "temam_f = 1\n",
    "supg_f = 0\n",
    "combi_f = 0\n",
    "\n",
    "\n",
    "plot_f = 0\n",
    "\n",
    "Re = 5000\n",
    "\n",
    "stokes_problem(T, num_steps, mu, rho, epsilon, theta, Re, R, element_n, plot_f, progress_f, proceents, t_start, mesh_f, conv_f, bcflow_f, temam_f, supg_f, combi_f ,folder_name)"
   ]
  },
  {
   "cell_type": "markdown",
   "metadata": {},
   "source": [
    "Re = 5000 epsilon = 0,01"
   ]
  },
  {
   "cell_type": "code",
   "execution_count": 5,
   "metadata": {},
   "outputs": [
    {
     "name": "stdout",
     "output_type": "stream",
     "text": [
      "% = 0 , time mplsd = 1\n",
      "% = 10 , time mplsd = 40\n",
      "% = 20 , time mplsd = 79\n",
      "% = 30 , time mplsd = 117\n",
      "% = 40 , time mplsd = 156\n",
      "% = 50 , time mplsd = 195\n",
      "% = 60 , time mplsd = 235\n",
      "% = 70 , time mplsd = 274\n",
      "% = 80 , time mplsd = 314\n",
      "% = 90 , time mplsd = 354\n",
      "% = 100 , time mplsd = 393\n"
     ]
    }
   ],
   "source": [
    "t_start = time.time()\n",
    "T = 4.           # final time\n",
    "num_steps = 400    # number of time steps\n",
    "dt = T/num_steps\n",
    "mu = 0.035            # kinematic viscosity\n",
    "rho = 1.2            # density\n",
    "epsilon = 0.01\n",
    "theta = 1\n",
    "R = 1\n",
    "element_n = 2 #P? element to solve\n",
    "\n",
    "\n",
    "progress_f = 1\n",
    "proceents = 10\n",
    "\n",
    "\n",
    "mesh_f= 0 # 0 for coarse 1 for fine\n",
    "conv_f = 1 \n",
    "bcflow_f = 1\n",
    "temam_f = 1\n",
    "supg_f = 0\n",
    "combi_f = 0\n",
    "\n",
    "\n",
    "plot_f = 0\n",
    "\n",
    "Re = 5000\n",
    "\n",
    "stokes_problem(T, num_steps, mu, rho, epsilon, theta, Re, R, element_n, plot_f, progress_f, proceents, t_start, mesh_f, conv_f, bcflow_f, temam_f, supg_f, combi_f ,folder_name)"
   ]
  },
  {
   "cell_type": "markdown",
   "metadata": {},
   "source": [
    "Re = 5000 epsilon = 0,0001"
   ]
  },
  {
   "cell_type": "code",
   "execution_count": 6,
   "metadata": {},
   "outputs": [
    {
     "name": "stdout",
     "output_type": "stream",
     "text": [
      "% = 0 , time mplsd = 0\n",
      "% = 10 , time mplsd = 39\n",
      "% = 20 , time mplsd = 77\n",
      "% = 30 , time mplsd = 115\n",
      "% = 40 , time mplsd = 154\n",
      "% = 50 , time mplsd = 195\n",
      "% = 60 , time mplsd = 234\n",
      "% = 70 , time mplsd = 274\n",
      "% = 80 , time mplsd = 314\n",
      "% = 90 , time mplsd = 355\n",
      "% = 100 , time mplsd = 394\n"
     ]
    }
   ],
   "source": [
    "t_start = time.time()\n",
    "T = 4.           # final time\n",
    "num_steps = 400    # number of time steps\n",
    "dt = T/num_steps\n",
    "mu = 0.035            # kinematic viscosity\n",
    "rho = 1.2            # density\n",
    "epsilon = 0.0001\n",
    "theta = 1\n",
    "R = 1\n",
    "element_n = 2 #P? element to solve\n",
    "\n",
    "\n",
    "progress_f = 1\n",
    "proceents = 10\n",
    "\n",
    "\n",
    "mesh_f= 0 # 0 for coarse 1 for fine\n",
    "conv_f = 1 \n",
    "bcflow_f = 1\n",
    "temam_f = 1\n",
    "supg_f = 0\n",
    "combi_f = 0\n",
    "\n",
    "\n",
    "plot_f = 0\n",
    "\n",
    "Re = 5000\n",
    "\n",
    "stokes_problem(T, num_steps, mu, rho, epsilon, theta, Re, R, element_n, plot_f, progress_f, proceents, t_start, mesh_f, conv_f, bcflow_f, temam_f, supg_f, combi_f ,folder_name)"
   ]
  },
  {
   "cell_type": "markdown",
   "metadata": {},
   "source": [
    "Second fine mesh"
   ]
  },
  {
   "cell_type": "markdown",
   "metadata": {},
   "source": [
    "Re = 5000 no stabilization term"
   ]
  },
  {
   "cell_type": "code",
   "execution_count": 7,
   "metadata": {},
   "outputs": [
    {
     "name": "stdout",
     "output_type": "stream",
     "text": [
      "% = 0 , time mplsd = 4\n",
      "% = 10 , time mplsd = 190\n",
      "% = 20 , time mplsd = 374\n",
      "% = 30 , time mplsd = 1165\n",
      "% = 40 , time mplsd = 1357\n",
      "% = 50 , time mplsd = 1546\n",
      "% = 60 , time mplsd = 1745\n",
      "% = 70 , time mplsd = 1942\n",
      "% = 80 , time mplsd = 2141\n",
      "% = 90 , time mplsd = 2340\n",
      "% = 100 , time mplsd = 2531\n"
     ]
    }
   ],
   "source": [
    "folder_name = '6.2.4/6.2.4.2/fine'\n",
    "t_start = time.time()\n",
    "T = 4.           # final time\n",
    "num_steps = 400    # number of time steps\n",
    "dt = T/num_steps\n",
    "mu = 0.035            # kinematic viscosity\n",
    "rho = 1.2            # density\n",
    "epsilon = 0\n",
    "theta = 1\n",
    "R = 1\n",
    "element_n = 2 #P? element to solve\n",
    "\n",
    "\n",
    "progress_f = 1\n",
    "proceents = 10\n",
    "\n",
    "\n",
    "mesh_f= 1 # 0 for coarse 1 for fine\n",
    "conv_f = 1 \n",
    "bcflow_f = 1\n",
    "temam_f = 1\n",
    "supg_f = 0\n",
    "combi_f = 0\n",
    "\n",
    "\n",
    "plot_f = 0\n",
    "\n",
    "Re = 5000\n",
    "\n",
    "stokes_problem(T, num_steps, mu, rho, epsilon, theta, Re, R, element_n, plot_f, progress_f, proceents, t_start, mesh_f, conv_f, bcflow_f, temam_f, supg_f, combi_f ,folder_name)"
   ]
  },
  {
   "cell_type": "markdown",
   "metadata": {},
   "source": [
    "Re = 5000 epsilon = 0,01"
   ]
  },
  {
   "cell_type": "code",
   "execution_count": 8,
   "metadata": {},
   "outputs": [
    {
     "name": "stdout",
     "output_type": "stream",
     "text": [
      "% = 0 , time mplsd = 4\n",
      "% = 10 , time mplsd = 202\n",
      "% = 20 , time mplsd = 398\n",
      "% = 30 , time mplsd = 595\n",
      "% = 40 , time mplsd = 782\n",
      "% = 50 , time mplsd = 978\n",
      "% = 60 , time mplsd = 1168\n",
      "% = 70 , time mplsd = 1356\n",
      "% = 80 , time mplsd = 1557\n",
      "% = 90 , time mplsd = 1754\n",
      "% = 100 , time mplsd = 1949\n"
     ]
    }
   ],
   "source": [
    "t_start = time.time()\n",
    "T = 4.           # final time\n",
    "num_steps = 400    # number of time steps\n",
    "dt = T/num_steps\n",
    "mu = 0.035            # kinematic viscosity\n",
    "rho = 1.2            # density\n",
    "epsilon = 0.01\n",
    "theta = 1\n",
    "R = 1\n",
    "element_n = 2 #P? element to solve\n",
    "\n",
    "\n",
    "progress_f = 1\n",
    "proceents = 10\n",
    "\n",
    "\n",
    "mesh_f= 1 # 0 for coarse 1 for fine\n",
    "conv_f = 1 \n",
    "bcflow_f = 1\n",
    "temam_f = 1\n",
    "supg_f = 0\n",
    "combi_f = 0\n",
    "\n",
    "\n",
    "plot_f = 0\n",
    "\n",
    "Re = 5000\n",
    "\n",
    "stokes_problem(T, num_steps, mu, rho, epsilon, theta, Re, R, element_n, plot_f, progress_f, proceents, t_start, mesh_f, conv_f, bcflow_f, temam_f, supg_f, combi_f ,folder_name)"
   ]
  },
  {
   "cell_type": "markdown",
   "metadata": {},
   "source": [
    "Re = 5000 epsilon = 0,0001"
   ]
  },
  {
   "cell_type": "code",
   "execution_count": 10,
   "metadata": {},
   "outputs": [
    {
     "name": "stdout",
     "output_type": "stream",
     "text": [
      "% = 0 , time mplsd = 4\n",
      "% = 10 , time mplsd = 196\n",
      "% = 20 , time mplsd = 389\n",
      "% = 30 , time mplsd = 583\n",
      "% = 40 , time mplsd = 777\n",
      "% = 50 , time mplsd = 975\n",
      "% = 60 , time mplsd = 1166\n",
      "% = 70 , time mplsd = 1359\n",
      "% = 80 , time mplsd = 1548\n",
      "% = 90 , time mplsd = 1742\n",
      "% = 100 , time mplsd = 1925\n"
     ]
    }
   ],
   "source": [
    "t_start = time.time()\n",
    "T = 4.           # final time\n",
    "num_steps = 400    # number of time steps\n",
    "dt = T/num_steps\n",
    "mu = 0.035            # kinematic viscosity\n",
    "rho = 1.2            # density\n",
    "epsilon = 0.0001\n",
    "theta = 1\n",
    "R = 1\n",
    "element_n = 2 #P? element to solve\n",
    "\n",
    "\n",
    "progress_f = 1\n",
    "proceents = 10\n",
    "\n",
    "\n",
    "mesh_f= 1 # 0 for coarse 1 for fine\n",
    "conv_f = 1 \n",
    "bcflow_f = 1\n",
    "temam_f = 1\n",
    "supg_f = 0\n",
    "combi_f = 0\n",
    "\n",
    "\n",
    "plot_f = 0\n",
    "\n",
    "Re = 5000\n",
    "\n",
    "stokes_problem(T, num_steps, mu, rho, epsilon, theta, Re, R, element_n, plot_f, progress_f, proceents, t_start, mesh_f, conv_f, bcflow_f, temam_f, supg_f, combi_f ,folder_name)"
   ]
  },
  {
   "cell_type": "markdown",
   "metadata": {},
   "source": [
    "2.4.3. Assignment (0.5 points) Compute the previous case with $\\theta=1 / 2, \\mathbb{P}_{1} / \\mathbb{P}_{1}$, $\\varepsilon=0.0001$. Compare the results with the case $\\theta=1$. Is the solution you obtained with $\\theta=1 / 2$ what you would expected from the physics? If not, what if you turn off all convection-related terms for $\\theta=0.5 ?$"
   ]
  },
  {
   "cell_type": "code",
   "execution_count": null,
   "metadata": {},
   "outputs": [],
   "source": [
    "First coarse mesh"
   ]
  },
  {
   "cell_type": "code",
   "execution_count": 11,
   "metadata": {},
   "outputs": [
    {
     "name": "stdout",
     "output_type": "stream",
     "text": [
      "% = 0 , time mplsd = 0\n",
      "Calling FFC just-in-time (JIT) compiler, this may take some time.\n",
      "Calling FFC just-in-time (JIT) compiler, this may take some time.\n",
      "Calling FFC just-in-time (JIT) compiler, this may take some time.\n",
      "Calling FFC just-in-time (JIT) compiler, this may take some time.\n",
      "% = 10 , time mplsd = 35\n",
      "% = 20 , time mplsd = 68\n",
      "% = 30 , time mplsd = 101\n",
      "% = 40 , time mplsd = 132\n",
      "% = 50 , time mplsd = 164\n",
      "% = 60 , time mplsd = 197\n",
      "% = 70 , time mplsd = 228\n",
      "% = 80 , time mplsd = 260\n",
      "% = 90 , time mplsd = 292\n",
      "% = 100 , time mplsd = 323\n"
     ]
    }
   ],
   "source": [
    "folder_name = '6.2.4/6.2.4.3/coarse'\n",
    "\n",
    "t_start = time.time()\n",
    "T = 4.           # final time\n",
    "num_steps = 400    # number of time steps\n",
    "dt = T/num_steps\n",
    "mu = 0.035            # kinematic viscosity\n",
    "rho = 1.2            # density\n",
    "epsilon = 0.0001\n",
    "theta = 0.5\n",
    "R = 1\n",
    "element_n = 1 #P? element to solve\n",
    "\n",
    "\n",
    "progress_f = 1\n",
    "proceents = 10\n",
    "\n",
    "\n",
    "mesh_f= 0 # 0 for coarse 1 for fine\n",
    "conv_f = 1 \n",
    "bcflow_f = 1\n",
    "temam_f = 1\n",
    "supg_f = 0\n",
    "combi_f = 0\n",
    "\n",
    "\n",
    "plot_f = 0\n",
    "\n",
    "Re = 5000\n",
    "\n",
    "stokes_problem(T, num_steps, mu, rho, epsilon, theta, Re, R, element_n, plot_f, progress_f, proceents, t_start, mesh_f, conv_f, bcflow_f, temam_f, supg_f, combi_f ,folder_name)"
   ]
  },
  {
   "cell_type": "markdown",
   "metadata": {},
   "source": [
    "theta = 1"
   ]
  },
  {
   "cell_type": "code",
   "execution_count": 12,
   "metadata": {},
   "outputs": [
    {
     "name": "stdout",
     "output_type": "stream",
     "text": [
      "% = 0 , time mplsd = 0\n",
      "Calling FFC just-in-time (JIT) compiler, this may take some time.\n",
      "Calling FFC just-in-time (JIT) compiler, this may take some time.\n",
      "Calling FFC just-in-time (JIT) compiler, this may take some time.\n",
      "Calling FFC just-in-time (JIT) compiler, this may take some time.\n",
      "% = 10 , time mplsd = 33\n",
      "% = 20 , time mplsd = 64\n",
      "% = 30 , time mplsd = 96\n",
      "% = 40 , time mplsd = 127\n",
      "% = 50 , time mplsd = 158\n",
      "% = 60 , time mplsd = 190\n",
      "% = 70 , time mplsd = 222\n",
      "% = 80 , time mplsd = 254\n",
      "% = 90 , time mplsd = 286\n",
      "% = 100 , time mplsd = 317\n"
     ]
    }
   ],
   "source": [
    "t_start = time.time()\n",
    "T = 4.           # final time\n",
    "num_steps = 400    # number of time steps\n",
    "dt = T/num_steps\n",
    "mu = 0.035            # kinematic viscosity\n",
    "rho = 1.2            # density\n",
    "epsilon = 0.0001\n",
    "theta = 1\n",
    "R = 1\n",
    "element_n = 1 #P? element to solve\n",
    "\n",
    "\n",
    "progress_f = 1\n",
    "proceents = 10\n",
    "\n",
    "\n",
    "mesh_f= 0 # 0 for coarse 1 for fine\n",
    "conv_f = 1 \n",
    "bcflow_f = 1\n",
    "temam_f = 1\n",
    "supg_f = 0\n",
    "combi_f = 0\n",
    "\n",
    "\n",
    "plot_f = 0\n",
    "\n",
    "Re = 5000\n",
    "\n",
    "stokes_problem(T, num_steps, mu, rho, epsilon, theta, Re, R, element_n, plot_f, progress_f, proceents, t_start, mesh_f, conv_f, bcflow_f, temam_f, supg_f, combi_f ,folder_name)"
   ]
  },
  {
   "cell_type": "code",
   "execution_count": null,
   "metadata": {},
   "outputs": [],
   "source": [
    "Second fine mesh"
   ]
  },
  {
   "cell_type": "code",
   "execution_count": 13,
   "metadata": {},
   "outputs": [
    {
     "name": "stdout",
     "output_type": "stream",
     "text": [
      "% = 0 , time mplsd = 4\n",
      "% = 10 , time mplsd = 152\n",
      "% = 20 , time mplsd = 301\n",
      "% = 30 , time mplsd = 453\n",
      "% = 40 , time mplsd = 1367\n",
      "% = 50 , time mplsd = 1521\n",
      "% = 60 , time mplsd = 1690\n",
      "% = 70 , time mplsd = 1851\n",
      "% = 80 , time mplsd = 2012\n",
      "% = 90 , time mplsd = 2159\n",
      "% = 100 , time mplsd = 2305\n"
     ]
    }
   ],
   "source": [
    "folder_name = '6.2.4/6.2.4.3/fine'\n",
    "\n",
    "t_start = time.time()\n",
    "T = 4.           # final time\n",
    "num_steps = 400    # number of time steps\n",
    "dt = T/num_steps\n",
    "mu = 0.035            # kinematic viscosity\n",
    "rho = 1.2            # density\n",
    "epsilon = 0.0001\n",
    "theta = 0.5\n",
    "R = 1\n",
    "element_n = 1 #P? element to solve\n",
    "\n",
    "\n",
    "progress_f = 1\n",
    "proceents = 10\n",
    "\n",
    "\n",
    "mesh_f= 1 # 0 for coarse 1 for fine\n",
    "conv_f = 1 \n",
    "bcflow_f = 1\n",
    "temam_f = 1\n",
    "supg_f = 0\n",
    "combi_f = 0\n",
    "\n",
    "\n",
    "plot_f = 0\n",
    "\n",
    "Re = 5000\n",
    "\n",
    "stokes_problem(T, num_steps, mu, rho, epsilon, theta, Re, R, element_n, plot_f, progress_f, proceents, t_start, mesh_f, conv_f, bcflow_f, temam_f, supg_f, combi_f ,folder_name)"
   ]
  },
  {
   "cell_type": "markdown",
   "metadata": {},
   "source": [
    "theta = 1"
   ]
  },
  {
   "cell_type": "code",
   "execution_count": null,
   "metadata": {},
   "outputs": [
    {
     "name": "stdout",
     "output_type": "stream",
     "text": [
      "% = 0 , time mplsd = 4\n",
      "% = 10 , time mplsd = 166\n",
      "% = 20 , time mplsd = 327\n",
      "% = 30 , time mplsd = 493\n",
      "% = 40 , time mplsd = 661\n"
     ]
    }
   ],
   "source": [
    "folder_name = '6.2.4/6.2.4.3/fine'\n",
    "t_start = time.time()\n",
    "T = 4.           # final time\n",
    "num_steps = 400    # number of time steps\n",
    "dt = T/num_steps\n",
    "mu = 0.035            # kinematic viscosity\n",
    "rho = 1.2            # density\n",
    "epsilon = 0.0001\n",
    "theta = 1\n",
    "R = 1\n",
    "element_n = 1 #P? element to solve\n",
    "\n",
    "\n",
    "progress_f = 1\n",
    "proceents = 10\n",
    "\n",
    "\n",
    "mesh_f= 1 # 0 for coarse 1 for fine\n",
    "conv_f = 1 \n",
    "bcflow_f = 1\n",
    "temam_f = 1\n",
    "supg_f = 0\n",
    "combi_f = 0\n",
    "\n",
    "\n",
    "plot_f = 0\n",
    "\n",
    "Re = 5000\n",
    "\n",
    "stokes_problem(T, num_steps, mu, rho, epsilon, theta, Re, R, element_n, plot_f, progress_f, proceents, t_start, mesh_f, conv_f, bcflow_f, temam_f, supg_f, combi_f ,folder_name)"
   ]
  },
  {
   "cell_type": "code",
   "execution_count": null,
   "metadata": {},
   "outputs": [],
   "source": []
  }
 ],
 "metadata": {
  "kernelspec": {
   "display_name": "Python 3",
   "language": "python",
   "name": "python3"
  },
  "language_info": {
   "codemirror_mode": {
    "name": "ipython",
    "version": 3
   },
   "file_extension": ".py",
   "mimetype": "text/x-python",
   "name": "python",
   "nbconvert_exporter": "python",
   "pygments_lexer": "ipython3",
   "version": "3.6.9"
  }
 },
 "nbformat": 4,
 "nbformat_minor": 4
}
