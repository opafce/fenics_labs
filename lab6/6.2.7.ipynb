{
 "cells": [
  {
   "cell_type": "markdown",
   "metadata": {},
   "source": [
    "$2.7$ Solvability (1 point)\n",
    "Assignment (1 point) Show that the bilinear form used in Section $2.4$ (for any $\\theta>0$ ) is coercive for $(\\boldsymbol{u}, p) \\in\\left[H^{1}(\\Omega)\\right]^{d+1}$, which $d$ the spatial dimension (equal to the number of velocity components), assuming the constrain that the pressure is zero at some part of the boundary and the velocities components are zero at the Dirichlet boundaries. Here you will have to use what you have for stationary problems (since at each time step, the problem is stationary)."
   ]
  },
  {
   "cell_type": "code",
   "execution_count": null,
   "metadata": {},
   "outputs": [],
   "source": []
  }
 ],
 "metadata": {
  "kernelspec": {
   "display_name": "Python 3",
   "language": "python",
   "name": "python3"
  },
  "language_info": {
   "codemirror_mode": {
    "name": "ipython",
    "version": 3
   },
   "file_extension": ".py",
   "mimetype": "text/x-python",
   "name": "python",
   "nbconvert_exporter": "python",
   "pygments_lexer": "ipython3",
   "version": "3.6.9"
  }
 },
 "nbformat": 4,
 "nbformat_minor": 4
}
